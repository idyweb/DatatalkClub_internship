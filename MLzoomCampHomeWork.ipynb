{
 "cells": [
  {
   "cell_type": "code",
   "execution_count": 1,
   "id": "4cbc528e",
   "metadata": {},
   "outputs": [],
   "source": [
    "import  numpy as np\n",
    "import pandas as pd\n",
    "import matplotlib.pyplot as plt\n",
    "\n",
    "%matplotlib inline"
   ]
  },
  {
   "cell_type": "code",
   "execution_count": 46,
   "id": "d82ea5ca",
   "metadata": {},
   "outputs": [
    {
     "data": {
      "text/html": [
       "<div>\n",
       "<style scoped>\n",
       "    .dataframe tbody tr th:only-of-type {\n",
       "        vertical-align: middle;\n",
       "    }\n",
       "\n",
       "    .dataframe tbody tr th {\n",
       "        vertical-align: top;\n",
       "    }\n",
       "\n",
       "    .dataframe thead th {\n",
       "        text-align: right;\n",
       "    }\n",
       "</style>\n",
       "<table border=\"1\" class=\"dataframe\">\n",
       "  <thead>\n",
       "    <tr style=\"text-align: right;\">\n",
       "      <th></th>\n",
       "      <th>latitude</th>\n",
       "      <th>longitude</th>\n",
       "      <th>price</th>\n",
       "      <th>minimum_nights</th>\n",
       "      <th>number_of_reviews</th>\n",
       "      <th>reviews_per_month</th>\n",
       "      <th>calculated_host_listings_count</th>\n",
       "      <th>availability_365</th>\n",
       "    </tr>\n",
       "  </thead>\n",
       "  <tbody>\n",
       "    <tr>\n",
       "      <th>0</th>\n",
       "      <td>40.64749</td>\n",
       "      <td>-73.97237</td>\n",
       "      <td>149</td>\n",
       "      <td>1</td>\n",
       "      <td>9</td>\n",
       "      <td>0.21</td>\n",
       "      <td>6</td>\n",
       "      <td>365</td>\n",
       "    </tr>\n",
       "    <tr>\n",
       "      <th>1</th>\n",
       "      <td>40.75362</td>\n",
       "      <td>-73.98377</td>\n",
       "      <td>225</td>\n",
       "      <td>1</td>\n",
       "      <td>45</td>\n",
       "      <td>0.38</td>\n",
       "      <td>2</td>\n",
       "      <td>355</td>\n",
       "    </tr>\n",
       "    <tr>\n",
       "      <th>2</th>\n",
       "      <td>40.80902</td>\n",
       "      <td>-73.94190</td>\n",
       "      <td>150</td>\n",
       "      <td>3</td>\n",
       "      <td>0</td>\n",
       "      <td>NaN</td>\n",
       "      <td>1</td>\n",
       "      <td>365</td>\n",
       "    </tr>\n",
       "    <tr>\n",
       "      <th>3</th>\n",
       "      <td>40.68514</td>\n",
       "      <td>-73.95976</td>\n",
       "      <td>89</td>\n",
       "      <td>1</td>\n",
       "      <td>270</td>\n",
       "      <td>4.64</td>\n",
       "      <td>1</td>\n",
       "      <td>194</td>\n",
       "    </tr>\n",
       "    <tr>\n",
       "      <th>4</th>\n",
       "      <td>40.79851</td>\n",
       "      <td>-73.94399</td>\n",
       "      <td>80</td>\n",
       "      <td>10</td>\n",
       "      <td>9</td>\n",
       "      <td>0.10</td>\n",
       "      <td>1</td>\n",
       "      <td>0</td>\n",
       "    </tr>\n",
       "    <tr>\n",
       "      <th>5</th>\n",
       "      <td>40.74767</td>\n",
       "      <td>-73.97500</td>\n",
       "      <td>200</td>\n",
       "      <td>3</td>\n",
       "      <td>74</td>\n",
       "      <td>0.59</td>\n",
       "      <td>1</td>\n",
       "      <td>129</td>\n",
       "    </tr>\n",
       "    <tr>\n",
       "      <th>6</th>\n",
       "      <td>40.68688</td>\n",
       "      <td>-73.95596</td>\n",
       "      <td>60</td>\n",
       "      <td>45</td>\n",
       "      <td>49</td>\n",
       "      <td>0.40</td>\n",
       "      <td>1</td>\n",
       "      <td>0</td>\n",
       "    </tr>\n",
       "    <tr>\n",
       "      <th>7</th>\n",
       "      <td>40.76489</td>\n",
       "      <td>-73.98493</td>\n",
       "      <td>79</td>\n",
       "      <td>2</td>\n",
       "      <td>430</td>\n",
       "      <td>3.47</td>\n",
       "      <td>1</td>\n",
       "      <td>220</td>\n",
       "    </tr>\n",
       "    <tr>\n",
       "      <th>8</th>\n",
       "      <td>40.80178</td>\n",
       "      <td>-73.96723</td>\n",
       "      <td>79</td>\n",
       "      <td>2</td>\n",
       "      <td>118</td>\n",
       "      <td>0.99</td>\n",
       "      <td>1</td>\n",
       "      <td>0</td>\n",
       "    </tr>\n",
       "    <tr>\n",
       "      <th>9</th>\n",
       "      <td>40.71344</td>\n",
       "      <td>-73.99037</td>\n",
       "      <td>150</td>\n",
       "      <td>1</td>\n",
       "      <td>160</td>\n",
       "      <td>1.33</td>\n",
       "      <td>4</td>\n",
       "      <td>188</td>\n",
       "    </tr>\n",
       "    <tr>\n",
       "      <th>10</th>\n",
       "      <td>40.80316</td>\n",
       "      <td>-73.96545</td>\n",
       "      <td>135</td>\n",
       "      <td>5</td>\n",
       "      <td>53</td>\n",
       "      <td>0.43</td>\n",
       "      <td>1</td>\n",
       "      <td>6</td>\n",
       "    </tr>\n",
       "    <tr>\n",
       "      <th>11</th>\n",
       "      <td>40.76076</td>\n",
       "      <td>-73.98867</td>\n",
       "      <td>85</td>\n",
       "      <td>2</td>\n",
       "      <td>188</td>\n",
       "      <td>1.50</td>\n",
       "      <td>1</td>\n",
       "      <td>39</td>\n",
       "    </tr>\n",
       "    <tr>\n",
       "      <th>12</th>\n",
       "      <td>40.66829</td>\n",
       "      <td>-73.98779</td>\n",
       "      <td>89</td>\n",
       "      <td>4</td>\n",
       "      <td>167</td>\n",
       "      <td>1.34</td>\n",
       "      <td>3</td>\n",
       "      <td>314</td>\n",
       "    </tr>\n",
       "    <tr>\n",
       "      <th>13</th>\n",
       "      <td>40.79826</td>\n",
       "      <td>-73.96113</td>\n",
       "      <td>85</td>\n",
       "      <td>2</td>\n",
       "      <td>113</td>\n",
       "      <td>0.91</td>\n",
       "      <td>1</td>\n",
       "      <td>333</td>\n",
       "    </tr>\n",
       "    <tr>\n",
       "      <th>14</th>\n",
       "      <td>40.73530</td>\n",
       "      <td>-74.00525</td>\n",
       "      <td>120</td>\n",
       "      <td>90</td>\n",
       "      <td>27</td>\n",
       "      <td>0.22</td>\n",
       "      <td>1</td>\n",
       "      <td>0</td>\n",
       "    </tr>\n",
       "    <tr>\n",
       "      <th>15</th>\n",
       "      <td>40.70837</td>\n",
       "      <td>-73.95352</td>\n",
       "      <td>140</td>\n",
       "      <td>2</td>\n",
       "      <td>148</td>\n",
       "      <td>1.20</td>\n",
       "      <td>1</td>\n",
       "      <td>46</td>\n",
       "    </tr>\n",
       "    <tr>\n",
       "      <th>16</th>\n",
       "      <td>40.69169</td>\n",
       "      <td>-73.97185</td>\n",
       "      <td>215</td>\n",
       "      <td>2</td>\n",
       "      <td>198</td>\n",
       "      <td>1.72</td>\n",
       "      <td>1</td>\n",
       "      <td>321</td>\n",
       "    </tr>\n",
       "    <tr>\n",
       "      <th>17</th>\n",
       "      <td>40.74192</td>\n",
       "      <td>-73.99501</td>\n",
       "      <td>140</td>\n",
       "      <td>1</td>\n",
       "      <td>260</td>\n",
       "      <td>2.12</td>\n",
       "      <td>1</td>\n",
       "      <td>12</td>\n",
       "    </tr>\n",
       "    <tr>\n",
       "      <th>18</th>\n",
       "      <td>40.67592</td>\n",
       "      <td>-73.94694</td>\n",
       "      <td>99</td>\n",
       "      <td>3</td>\n",
       "      <td>53</td>\n",
       "      <td>4.44</td>\n",
       "      <td>1</td>\n",
       "      <td>21</td>\n",
       "    </tr>\n",
       "    <tr>\n",
       "      <th>19</th>\n",
       "      <td>40.79685</td>\n",
       "      <td>-73.94872</td>\n",
       "      <td>190</td>\n",
       "      <td>7</td>\n",
       "      <td>0</td>\n",
       "      <td>NaN</td>\n",
       "      <td>2</td>\n",
       "      <td>249</td>\n",
       "    </tr>\n",
       "  </tbody>\n",
       "</table>\n",
       "</div>"
      ],
      "text/plain": [
       "    latitude  longitude  price  minimum_nights  number_of_reviews  \\\n",
       "0   40.64749  -73.97237    149               1                  9   \n",
       "1   40.75362  -73.98377    225               1                 45   \n",
       "2   40.80902  -73.94190    150               3                  0   \n",
       "3   40.68514  -73.95976     89               1                270   \n",
       "4   40.79851  -73.94399     80              10                  9   \n",
       "5   40.74767  -73.97500    200               3                 74   \n",
       "6   40.68688  -73.95596     60              45                 49   \n",
       "7   40.76489  -73.98493     79               2                430   \n",
       "8   40.80178  -73.96723     79               2                118   \n",
       "9   40.71344  -73.99037    150               1                160   \n",
       "10  40.80316  -73.96545    135               5                 53   \n",
       "11  40.76076  -73.98867     85               2                188   \n",
       "12  40.66829  -73.98779     89               4                167   \n",
       "13  40.79826  -73.96113     85               2                113   \n",
       "14  40.73530  -74.00525    120              90                 27   \n",
       "15  40.70837  -73.95352    140               2                148   \n",
       "16  40.69169  -73.97185    215               2                198   \n",
       "17  40.74192  -73.99501    140               1                260   \n",
       "18  40.67592  -73.94694     99               3                 53   \n",
       "19  40.79685  -73.94872    190               7                  0   \n",
       "\n",
       "    reviews_per_month  calculated_host_listings_count  availability_365  \n",
       "0                0.21                               6               365  \n",
       "1                0.38                               2               355  \n",
       "2                 NaN                               1               365  \n",
       "3                4.64                               1               194  \n",
       "4                0.10                               1                 0  \n",
       "5                0.59                               1               129  \n",
       "6                0.40                               1                 0  \n",
       "7                3.47                               1               220  \n",
       "8                0.99                               1                 0  \n",
       "9                1.33                               4               188  \n",
       "10               0.43                               1                 6  \n",
       "11               1.50                               1                39  \n",
       "12               1.34                               3               314  \n",
       "13               0.91                               1               333  \n",
       "14               0.22                               1                 0  \n",
       "15               1.20                               1                46  \n",
       "16               1.72                               1               321  \n",
       "17               2.12                               1                12  \n",
       "18               4.44                               1                21  \n",
       "19                NaN                               2               249  "
      ]
     },
     "execution_count": 46,
     "metadata": {},
     "output_type": "execute_result"
    }
   ],
   "source": [
    "usecols =['latitude',\n",
    "'longitude',\n",
    "'price',\n",
    "'minimum_nights',\n",
    "'number_of_reviews',\n",
    "'reviews_per_month',\n",
    "'calculated_host_listings_count',\n",
    "'availability_365']\n",
    "data = pd.read_csv(r'C:/Users/user/Desktop/Data_sets/archive (2)/AB_NYC_2019.csv', usecols = usecols)\n",
    "data.head(20)"
   ]
  },
  {
   "cell_type": "code",
   "execution_count": 3,
   "id": "bb6fd056",
   "metadata": {},
   "outputs": [
    {
     "name": "stdout",
     "output_type": "stream",
     "text": [
      "(48895, 8)\n"
     ]
    }
   ],
   "source": [
    "print(data.shape)"
   ]
  },
  {
   "cell_type": "code",
   "execution_count": 4,
   "id": "d4bc5e88",
   "metadata": {},
   "outputs": [
    {
     "name": "stdout",
     "output_type": "stream",
     "text": [
      "<class 'pandas.core.frame.DataFrame'>\n",
      "RangeIndex: 48895 entries, 0 to 48894\n",
      "Data columns (total 8 columns):\n",
      " #   Column                          Non-Null Count  Dtype  \n",
      "---  ------                          --------------  -----  \n",
      " 0   latitude                        48895 non-null  float64\n",
      " 1   longitude                       48895 non-null  float64\n",
      " 2   price                           48895 non-null  int64  \n",
      " 3   minimum_nights                  48895 non-null  int64  \n",
      " 4   number_of_reviews               48895 non-null  int64  \n",
      " 5   reviews_per_month               38843 non-null  float64\n",
      " 6   calculated_host_listings_count  48895 non-null  int64  \n",
      " 7   availability_365                48895 non-null  int64  \n",
      "dtypes: float64(3), int64(5)\n",
      "memory usage: 3.0 MB\n"
     ]
    }
   ],
   "source": [
    "data.info()"
   ]
  },
  {
   "cell_type": "code",
   "execution_count": null,
   "id": "84051883",
   "metadata": {},
   "outputs": [],
   "source": []
  },
  {
   "cell_type": "code",
   "execution_count": null,
   "id": "085293af",
   "metadata": {},
   "outputs": [],
   "source": []
  },
  {
   "cell_type": "code",
   "execution_count": 5,
   "id": "d7893c47",
   "metadata": {},
   "outputs": [],
   "source": [
    "import seaborn as sns\n"
   ]
  },
  {
   "cell_type": "code",
   "execution_count": 6,
   "id": "4cf897a9",
   "metadata": {},
   "outputs": [
    {
     "data": {
      "text/plain": [
       "<AxesSubplot:xlabel='price', ylabel='Count'>"
      ]
     },
     "execution_count": 6,
     "metadata": {},
     "output_type": "execute_result"
    },
    {
     "data": {
      "image/png": "[encoded data removed]",
      "text/plain": [
       "<Figure size 432x288 with 1 Axes>"
      ]
     },
     "metadata": {
      "needs_background": "light"
     },
     "output_type": "display_data"
    }
   ],
   "source": [
    "sns.histplot(data.price, bins=50)"
   ]
  },
  {
   "cell_type": "code",
   "execution_count": 7,
   "id": "ccc4c34a",
   "metadata": {
    "scrolled": true
   },
   "outputs": [
    {
     "data": {
      "text/html": [
       "<div>\n",
       "<style scoped>\n",
       "    .dataframe tbody tr th:only-of-type {\n",
       "        vertical-align: middle;\n",
       "    }\n",
       "\n",
       "    .dataframe tbody tr th {\n",
       "        vertical-align: top;\n",
       "    }\n",
       "\n",
       "    .dataframe thead th {\n",
       "        text-align: right;\n",
       "    }\n",
       "</style>\n",
       "<table border=\"1\" class=\"dataframe\">\n",
       "  <thead>\n",
       "    <tr style=\"text-align: right;\">\n",
       "      <th></th>\n",
       "      <th>latitude</th>\n",
       "      <th>longitude</th>\n",
       "      <th>price</th>\n",
       "      <th>minimum_nights</th>\n",
       "      <th>number_of_reviews</th>\n",
       "      <th>reviews_per_month</th>\n",
       "      <th>calculated_host_listings_count</th>\n",
       "      <th>availability_365</th>\n",
       "    </tr>\n",
       "  </thead>\n",
       "  <tbody>\n",
       "    <tr>\n",
       "      <th>count</th>\n",
       "      <td>48895.000000</td>\n",
       "      <td>48895.000000</td>\n",
       "      <td>48895.000000</td>\n",
       "      <td>48895.000000</td>\n",
       "      <td>48895.000000</td>\n",
       "      <td>38843.000000</td>\n",
       "      <td>48895.000000</td>\n",
       "      <td>48895.000000</td>\n",
       "    </tr>\n",
       "    <tr>\n",
       "      <th>mean</th>\n",
       "      <td>40.728949</td>\n",
       "      <td>-73.952170</td>\n",
       "      <td>152.720687</td>\n",
       "      <td>7.029962</td>\n",
       "      <td>23.274466</td>\n",
       "      <td>1.373221</td>\n",
       "      <td>7.143982</td>\n",
       "      <td>112.781327</td>\n",
       "    </tr>\n",
       "    <tr>\n",
       "      <th>std</th>\n",
       "      <td>0.054530</td>\n",
       "      <td>0.046157</td>\n",
       "      <td>240.154170</td>\n",
       "      <td>20.510550</td>\n",
       "      <td>44.550582</td>\n",
       "      <td>1.680442</td>\n",
       "      <td>32.952519</td>\n",
       "      <td>131.622289</td>\n",
       "    </tr>\n",
       "    <tr>\n",
       "      <th>min</th>\n",
       "      <td>40.499790</td>\n",
       "      <td>-74.244420</td>\n",
       "      <td>0.000000</td>\n",
       "      <td>1.000000</td>\n",
       "      <td>0.000000</td>\n",
       "      <td>0.010000</td>\n",
       "      <td>1.000000</td>\n",
       "      <td>0.000000</td>\n",
       "    </tr>\n",
       "    <tr>\n",
       "      <th>25%</th>\n",
       "      <td>40.690100</td>\n",
       "      <td>-73.983070</td>\n",
       "      <td>69.000000</td>\n",
       "      <td>1.000000</td>\n",
       "      <td>1.000000</td>\n",
       "      <td>0.190000</td>\n",
       "      <td>1.000000</td>\n",
       "      <td>0.000000</td>\n",
       "    </tr>\n",
       "    <tr>\n",
       "      <th>50%</th>\n",
       "      <td>40.723070</td>\n",
       "      <td>-73.955680</td>\n",
       "      <td>106.000000</td>\n",
       "      <td>3.000000</td>\n",
       "      <td>5.000000</td>\n",
       "      <td>0.720000</td>\n",
       "      <td>1.000000</td>\n",
       "      <td>45.000000</td>\n",
       "    </tr>\n",
       "    <tr>\n",
       "      <th>75%</th>\n",
       "      <td>40.763115</td>\n",
       "      <td>-73.936275</td>\n",
       "      <td>175.000000</td>\n",
       "      <td>5.000000</td>\n",
       "      <td>24.000000</td>\n",
       "      <td>2.020000</td>\n",
       "      <td>2.000000</td>\n",
       "      <td>227.000000</td>\n",
       "    </tr>\n",
       "    <tr>\n",
       "      <th>max</th>\n",
       "      <td>40.913060</td>\n",
       "      <td>-73.712990</td>\n",
       "      <td>10000.000000</td>\n",
       "      <td>1250.000000</td>\n",
       "      <td>629.000000</td>\n",
       "      <td>58.500000</td>\n",
       "      <td>327.000000</td>\n",
       "      <td>365.000000</td>\n",
       "    </tr>\n",
       "  </tbody>\n",
       "</table>\n",
       "</div>"
      ],
      "text/plain": [
       "           latitude     longitude         price  minimum_nights  \\\n",
       "count  48895.000000  48895.000000  48895.000000    48895.000000   \n",
       "mean      40.728949    -73.952170    152.720687        7.029962   \n",
       "std        0.054530      0.046157    240.154170       20.510550   \n",
       "min       40.499790    -74.244420      0.000000        1.000000   \n",
       "25%       40.690100    -73.983070     69.000000        1.000000   \n",
       "50%       40.723070    -73.955680    106.000000        3.000000   \n",
       "75%       40.763115    -73.936275    175.000000        5.000000   \n",
       "max       40.913060    -73.712990  10000.000000     1250.000000   \n",
       "\n",
       "       number_of_reviews  reviews_per_month  calculated_host_listings_count  \\\n",
       "count       48895.000000       38843.000000                    48895.000000   \n",
       "mean           23.274466           1.373221                        7.143982   \n",
       "std            44.550582           1.680442                       32.952519   \n",
       "min             0.000000           0.010000                        1.000000   \n",
       "25%             1.000000           0.190000                        1.000000   \n",
       "50%             5.000000           0.720000                        1.000000   \n",
       "75%            24.000000           2.020000                        2.000000   \n",
       "max           629.000000          58.500000                      327.000000   \n",
       "\n",
       "       availability_365  \n",
       "count      48895.000000  \n",
       "mean         112.781327  \n",
       "std          131.622289  \n",
       "min            0.000000  \n",
       "25%            0.000000  \n",
       "50%           45.000000  \n",
       "75%          227.000000  \n",
       "max          365.000000  "
      ]
     },
     "execution_count": 7,
     "metadata": {},
     "output_type": "execute_result"
    }
   ],
   "source": [
    "data.describe()"
   ]
  },
  {
   "cell_type": "code",
   "execution_count": null,
   "id": "9b785a45",
   "metadata": {},
   "outputs": [],
   "source": []
  },
  {
   "cell_type": "code",
   "execution_count": null,
   "id": "a9777c16",
   "metadata": {},
   "outputs": [],
   "source": []
  },
  {
   "cell_type": "code",
   "execution_count": null,
   "id": "e23a2ad0",
   "metadata": {},
   "outputs": [],
   "source": []
  },
  {
   "cell_type": "code",
   "execution_count": 8,
   "id": "a25f6604",
   "metadata": {
    "scrolled": true
   },
   "outputs": [
    {
     "data": {
      "text/plain": [
       "latitude                              0\n",
       "longitude                             0\n",
       "price                                 0\n",
       "minimum_nights                        0\n",
       "number_of_reviews                     0\n",
       "reviews_per_month                 10052\n",
       "calculated_host_listings_count        0\n",
       "availability_365                      0\n",
       "dtype: int64"
      ]
     },
     "execution_count": 8,
     "metadata": {},
     "output_type": "execute_result"
    }
   ],
   "source": [
    "data.isnull().sum()"
   ]
  },
  {
   "cell_type": "code",
   "execution_count": 9,
   "id": "c780e270",
   "metadata": {},
   "outputs": [
    {
     "data": {
      "text/html": [
       "<div>\n",
       "<style scoped>\n",
       "    .dataframe tbody tr th:only-of-type {\n",
       "        vertical-align: middle;\n",
       "    }\n",
       "\n",
       "    .dataframe tbody tr th {\n",
       "        vertical-align: top;\n",
       "    }\n",
       "\n",
       "    .dataframe thead th {\n",
       "        text-align: right;\n",
       "    }\n",
       "</style>\n",
       "<table border=\"1\" class=\"dataframe\">\n",
       "  <thead>\n",
       "    <tr style=\"text-align: right;\">\n",
       "      <th></th>\n",
       "      <th>latitude</th>\n",
       "      <th>longitude</th>\n",
       "      <th>price</th>\n",
       "      <th>minimum_nights</th>\n",
       "      <th>number_of_reviews</th>\n",
       "      <th>reviews_per_month</th>\n",
       "      <th>calculated_host_listings_count</th>\n",
       "      <th>availability_365</th>\n",
       "    </tr>\n",
       "  </thead>\n",
       "  <tbody>\n",
       "    <tr>\n",
       "      <th>0</th>\n",
       "      <td>40.64749</td>\n",
       "      <td>-73.97237</td>\n",
       "      <td>149</td>\n",
       "      <td>1</td>\n",
       "      <td>9</td>\n",
       "      <td>0.21</td>\n",
       "      <td>6</td>\n",
       "      <td>365</td>\n",
       "    </tr>\n",
       "    <tr>\n",
       "      <th>1</th>\n",
       "      <td>40.75362</td>\n",
       "      <td>-73.98377</td>\n",
       "      <td>225</td>\n",
       "      <td>1</td>\n",
       "      <td>45</td>\n",
       "      <td>0.38</td>\n",
       "      <td>2</td>\n",
       "      <td>355</td>\n",
       "    </tr>\n",
       "    <tr>\n",
       "      <th>2</th>\n",
       "      <td>40.80902</td>\n",
       "      <td>-73.94190</td>\n",
       "      <td>150</td>\n",
       "      <td>3</td>\n",
       "      <td>0</td>\n",
       "      <td>NaN</td>\n",
       "      <td>1</td>\n",
       "      <td>365</td>\n",
       "    </tr>\n",
       "    <tr>\n",
       "      <th>3</th>\n",
       "      <td>40.68514</td>\n",
       "      <td>-73.95976</td>\n",
       "      <td>89</td>\n",
       "      <td>1</td>\n",
       "      <td>270</td>\n",
       "      <td>4.64</td>\n",
       "      <td>1</td>\n",
       "      <td>194</td>\n",
       "    </tr>\n",
       "    <tr>\n",
       "      <th>4</th>\n",
       "      <td>40.79851</td>\n",
       "      <td>-73.94399</td>\n",
       "      <td>80</td>\n",
       "      <td>10</td>\n",
       "      <td>9</td>\n",
       "      <td>0.10</td>\n",
       "      <td>1</td>\n",
       "      <td>0</td>\n",
       "    </tr>\n",
       "  </tbody>\n",
       "</table>\n",
       "</div>"
      ],
      "text/plain": [
       "   latitude  longitude  price  minimum_nights  number_of_reviews  \\\n",
       "0  40.64749  -73.97237    149               1                  9   \n",
       "1  40.75362  -73.98377    225               1                 45   \n",
       "2  40.80902  -73.94190    150               3                  0   \n",
       "3  40.68514  -73.95976     89               1                270   \n",
       "4  40.79851  -73.94399     80              10                  9   \n",
       "\n",
       "   reviews_per_month  calculated_host_listings_count  availability_365  \n",
       "0               0.21                               6               365  \n",
       "1               0.38                               2               355  \n",
       "2                NaN                               1               365  \n",
       "3               4.64                               1               194  \n",
       "4               0.10                               1                 0  "
      ]
     },
     "execution_count": 9,
     "metadata": {},
     "output_type": "execute_result"
    }
   ],
   "source": [
    "data.head()"
   ]
  },
  {
   "cell_type": "code",
   "execution_count": 10,
   "id": "be7fcd65",
   "metadata": {},
   "outputs": [],
   "source": [
    "#deal with missing values\n",
    "#first with zeros\n",
    "df_zero = data.fillna(0)"
   ]
  },
  {
   "cell_type": "code",
   "execution_count": 11,
   "id": "95247129",
   "metadata": {},
   "outputs": [
    {
     "data": {
      "text/plain": [
       "latitude                          0\n",
       "longitude                         0\n",
       "price                             0\n",
       "minimum_nights                    0\n",
       "number_of_reviews                 0\n",
       "reviews_per_month                 0\n",
       "calculated_host_listings_count    0\n",
       "availability_365                  0\n",
       "dtype: int64"
      ]
     },
     "execution_count": 11,
     "metadata": {},
     "output_type": "execute_result"
    }
   ],
   "source": [
    "df_zero.isnull().sum()"
   ]
  },
  {
   "cell_type": "code",
   "execution_count": 12,
   "id": "30783606",
   "metadata": {},
   "outputs": [],
   "source": [
    "#missing values with the mean\n",
    "#df_mean = data.fillna((data['reviews_per_month'].mean()))"
   ]
  },
  {
   "cell_type": "code",
   "execution_count": 13,
   "id": "d61b8e1f",
   "metadata": {},
   "outputs": [],
   "source": [
    "#df_mean.info()"
   ]
  },
  {
   "cell_type": "markdown",
   "id": "7bfabf52",
   "metadata": {},
   "source": [
    "# setting up the validation framwork"
   ]
  },
  {
   "cell_type": "code",
   "execution_count": 14,
   "id": "3462f252",
   "metadata": {},
   "outputs": [],
   "source": [
    "#with the zero missing values\n",
    "n = len(df_zero)\n",
    "n_val = int(n * 0.2)\n",
    "n_test = int(n * 0.2)\n",
    "n_train = n - n_val - n_test"
   ]
  },
  {
   "cell_type": "code",
   "execution_count": 15,
   "id": "3cc5b1b9",
   "metadata": {},
   "outputs": [
    {
     "data": {
      "text/plain": [
       "(9779, 9779, 29337)"
      ]
     },
     "execution_count": 15,
     "metadata": {},
     "output_type": "execute_result"
    }
   ],
   "source": [
    "n_val, n_test, n_train"
   ]
  },
  {
   "cell_type": "code",
   "execution_count": 16,
   "id": "ecf0566a",
   "metadata": {},
   "outputs": [],
   "source": [
    "train_zero = df_zero.iloc[n_train:]\n",
    "val_zero = df_zero.iloc[n_train:n_train + n_val]\n",
    "test_zero = df_zero.iloc[n_train + n_val:]"
   ]
  },
  {
   "cell_type": "code",
   "execution_count": 17,
   "id": "a670b7f1",
   "metadata": {},
   "outputs": [
    {
     "data": {
      "text/html": [
       "<div>\n",
       "<style scoped>\n",
       "    .dataframe tbody tr th:only-of-type {\n",
       "        vertical-align: middle;\n",
       "    }\n",
       "\n",
       "    .dataframe tbody tr th {\n",
       "        vertical-align: top;\n",
       "    }\n",
       "\n",
       "    .dataframe thead th {\n",
       "        text-align: right;\n",
       "    }\n",
       "</style>\n",
       "<table border=\"1\" class=\"dataframe\">\n",
       "  <thead>\n",
       "    <tr style=\"text-align: right;\">\n",
       "      <th></th>\n",
       "      <th>latitude</th>\n",
       "      <th>longitude</th>\n",
       "      <th>price</th>\n",
       "      <th>minimum_nights</th>\n",
       "      <th>number_of_reviews</th>\n",
       "      <th>reviews_per_month</th>\n",
       "      <th>calculated_host_listings_count</th>\n",
       "      <th>availability_365</th>\n",
       "    </tr>\n",
       "  </thead>\n",
       "  <tbody>\n",
       "    <tr>\n",
       "      <th>29337</th>\n",
       "      <td>40.68994</td>\n",
       "      <td>-73.93031</td>\n",
       "      <td>60</td>\n",
       "      <td>20</td>\n",
       "      <td>0</td>\n",
       "      <td>0.00</td>\n",
       "      <td>1</td>\n",
       "      <td>0</td>\n",
       "    </tr>\n",
       "    <tr>\n",
       "      <th>29338</th>\n",
       "      <td>40.69735</td>\n",
       "      <td>-73.93276</td>\n",
       "      <td>42</td>\n",
       "      <td>1</td>\n",
       "      <td>10</td>\n",
       "      <td>0.54</td>\n",
       "      <td>1</td>\n",
       "      <td>0</td>\n",
       "    </tr>\n",
       "    <tr>\n",
       "      <th>29339</th>\n",
       "      <td>40.68124</td>\n",
       "      <td>-73.94560</td>\n",
       "      <td>60</td>\n",
       "      <td>30</td>\n",
       "      <td>4</td>\n",
       "      <td>0.28</td>\n",
       "      <td>6</td>\n",
       "      <td>299</td>\n",
       "    </tr>\n",
       "    <tr>\n",
       "      <th>29340</th>\n",
       "      <td>40.70383</td>\n",
       "      <td>-73.73416</td>\n",
       "      <td>120</td>\n",
       "      <td>3</td>\n",
       "      <td>0</td>\n",
       "      <td>0.00</td>\n",
       "      <td>1</td>\n",
       "      <td>83</td>\n",
       "    </tr>\n",
       "    <tr>\n",
       "      <th>29341</th>\n",
       "      <td>40.81685</td>\n",
       "      <td>-73.93711</td>\n",
       "      <td>95</td>\n",
       "      <td>3</td>\n",
       "      <td>3</td>\n",
       "      <td>0.20</td>\n",
       "      <td>1</td>\n",
       "      <td>78</td>\n",
       "    </tr>\n",
       "  </tbody>\n",
       "</table>\n",
       "</div>"
      ],
      "text/plain": [
       "       latitude  longitude  price  minimum_nights  number_of_reviews  \\\n",
       "29337  40.68994  -73.93031     60              20                  0   \n",
       "29338  40.69735  -73.93276     42               1                 10   \n",
       "29339  40.68124  -73.94560     60              30                  4   \n",
       "29340  40.70383  -73.73416    120               3                  0   \n",
       "29341  40.81685  -73.93711     95               3                  3   \n",
       "\n",
       "       reviews_per_month  calculated_host_listings_count  availability_365  \n",
       "29337               0.00                               1                 0  \n",
       "29338               0.54                               1                 0  \n",
       "29339               0.28                               6               299  \n",
       "29340               0.00                               1                83  \n",
       "29341               0.20                               1                78  "
      ]
     },
     "execution_count": 17,
     "metadata": {},
     "output_type": "execute_result"
    }
   ],
   "source": [
    "train_zero.head()"
   ]
  },
  {
   "cell_type": "code",
   "execution_count": 18,
   "id": "7e043f6f",
   "metadata": {},
   "outputs": [],
   "source": [
    "#shuffle incase there was an accidental order\n",
    "idx = np.arange(n)"
   ]
  },
  {
   "cell_type": "code",
   "execution_count": 19,
   "id": "eee5709a",
   "metadata": {},
   "outputs": [],
   "source": [
    "np.random.seed(2021)\n",
    "np.random.shuffle(idx)"
   ]
  },
  {
   "cell_type": "code",
   "execution_count": 20,
   "id": "1dbf0118",
   "metadata": {},
   "outputs": [],
   "source": [
    "train_zero = df_zero.iloc[idx[:n_train]]\n",
    "val_zero = df_zero.iloc[idx[n_train:n_train + n_val]]\n",
    "test_zero = df_zero.iloc[idx[n_train + n_val:]]"
   ]
  },
  {
   "cell_type": "code",
   "execution_count": 21,
   "id": "3eba5926",
   "metadata": {},
   "outputs": [
    {
     "data": {
      "text/html": [
       "<div>\n",
       "<style scoped>\n",
       "    .dataframe tbody tr th:only-of-type {\n",
       "        vertical-align: middle;\n",
       "    }\n",
       "\n",
       "    .dataframe tbody tr th {\n",
       "        vertical-align: top;\n",
       "    }\n",
       "\n",
       "    .dataframe thead th {\n",
       "        text-align: right;\n",
       "    }\n",
       "</style>\n",
       "<table border=\"1\" class=\"dataframe\">\n",
       "  <thead>\n",
       "    <tr style=\"text-align: right;\">\n",
       "      <th></th>\n",
       "      <th>latitude</th>\n",
       "      <th>longitude</th>\n",
       "      <th>price</th>\n",
       "      <th>minimum_nights</th>\n",
       "      <th>number_of_reviews</th>\n",
       "      <th>reviews_per_month</th>\n",
       "      <th>calculated_host_listings_count</th>\n",
       "      <th>availability_365</th>\n",
       "    </tr>\n",
       "  </thead>\n",
       "  <tbody>\n",
       "    <tr>\n",
       "      <th>44620</th>\n",
       "      <td>40.75965</td>\n",
       "      <td>-73.98652</td>\n",
       "      <td>215</td>\n",
       "      <td>29</td>\n",
       "      <td>0</td>\n",
       "      <td>0.00</td>\n",
       "      <td>327</td>\n",
       "      <td>338</td>\n",
       "    </tr>\n",
       "    <tr>\n",
       "      <th>37791</th>\n",
       "      <td>40.68062</td>\n",
       "      <td>-73.94418</td>\n",
       "      <td>62</td>\n",
       "      <td>30</td>\n",
       "      <td>1</td>\n",
       "      <td>0.75</td>\n",
       "      <td>6</td>\n",
       "      <td>284</td>\n",
       "    </tr>\n",
       "    <tr>\n",
       "      <th>391</th>\n",
       "      <td>40.70665</td>\n",
       "      <td>-73.94061</td>\n",
       "      <td>190</td>\n",
       "      <td>4</td>\n",
       "      <td>50</td>\n",
       "      <td>0.51</td>\n",
       "      <td>1</td>\n",
       "      <td>331</td>\n",
       "    </tr>\n",
       "    <tr>\n",
       "      <th>40938</th>\n",
       "      <td>40.68427</td>\n",
       "      <td>-73.95460</td>\n",
       "      <td>46</td>\n",
       "      <td>1</td>\n",
       "      <td>18</td>\n",
       "      <td>3.33</td>\n",
       "      <td>1</td>\n",
       "      <td>16</td>\n",
       "    </tr>\n",
       "    <tr>\n",
       "      <th>9443</th>\n",
       "      <td>40.82028</td>\n",
       "      <td>-73.95381</td>\n",
       "      <td>65</td>\n",
       "      <td>1</td>\n",
       "      <td>3</td>\n",
       "      <td>0.08</td>\n",
       "      <td>1</td>\n",
       "      <td>0</td>\n",
       "    </tr>\n",
       "  </tbody>\n",
       "</table>\n",
       "</div>"
      ],
      "text/plain": [
       "       latitude  longitude  price  minimum_nights  number_of_reviews  \\\n",
       "44620  40.75965  -73.98652    215              29                  0   \n",
       "37791  40.68062  -73.94418     62              30                  1   \n",
       "391    40.70665  -73.94061    190               4                 50   \n",
       "40938  40.68427  -73.95460     46               1                 18   \n",
       "9443   40.82028  -73.95381     65               1                  3   \n",
       "\n",
       "       reviews_per_month  calculated_host_listings_count  availability_365  \n",
       "44620               0.00                             327               338  \n",
       "37791               0.75                               6               284  \n",
       "391                 0.51                               1               331  \n",
       "40938               3.33                               1                16  \n",
       "9443                0.08                               1                 0  "
      ]
     },
     "execution_count": 21,
     "metadata": {},
     "output_type": "execute_result"
    }
   ],
   "source": [
    "train_zero.head()"
   ]
  },
  {
   "cell_type": "code",
   "execution_count": 22,
   "id": "37e1fa26",
   "metadata": {},
   "outputs": [
    {
     "data": {
      "text/plain": [
       "(29337, 9779, 9779)"
      ]
     },
     "execution_count": 22,
     "metadata": {},
     "output_type": "execute_result"
    }
   ],
   "source": [
    "len(train_zero), len(val_zero), len(test_zero)"
   ]
  },
  {
   "cell_type": "code",
   "execution_count": 23,
   "id": "98aed812",
   "metadata": {},
   "outputs": [],
   "source": [
    "#reset the index\n",
    "train_zero = train_zero.reset_index(drop=True)\n",
    "val_zero = val_zero.reset_index(drop=True)\n",
    "test_zero = test_zero.reset_index(drop=True)"
   ]
  },
  {
   "cell_type": "code",
   "execution_count": 24,
   "id": "7dd37233",
   "metadata": {},
   "outputs": [
    {
     "data": {
      "text/html": [
       "<div>\n",
       "<style scoped>\n",
       "    .dataframe tbody tr th:only-of-type {\n",
       "        vertical-align: middle;\n",
       "    }\n",
       "\n",
       "    .dataframe tbody tr th {\n",
       "        vertical-align: top;\n",
       "    }\n",
       "\n",
       "    .dataframe thead th {\n",
       "        text-align: right;\n",
       "    }\n",
       "</style>\n",
       "<table border=\"1\" class=\"dataframe\">\n",
       "  <thead>\n",
       "    <tr style=\"text-align: right;\">\n",
       "      <th></th>\n",
       "      <th>latitude</th>\n",
       "      <th>longitude</th>\n",
       "      <th>price</th>\n",
       "      <th>minimum_nights</th>\n",
       "      <th>number_of_reviews</th>\n",
       "      <th>reviews_per_month</th>\n",
       "      <th>calculated_host_listings_count</th>\n",
       "      <th>availability_365</th>\n",
       "    </tr>\n",
       "  </thead>\n",
       "  <tbody>\n",
       "    <tr>\n",
       "      <th>0</th>\n",
       "      <td>40.75965</td>\n",
       "      <td>-73.98652</td>\n",
       "      <td>215</td>\n",
       "      <td>29</td>\n",
       "      <td>0</td>\n",
       "      <td>0.00</td>\n",
       "      <td>327</td>\n",
       "      <td>338</td>\n",
       "    </tr>\n",
       "    <tr>\n",
       "      <th>1</th>\n",
       "      <td>40.68062</td>\n",
       "      <td>-73.94418</td>\n",
       "      <td>62</td>\n",
       "      <td>30</td>\n",
       "      <td>1</td>\n",
       "      <td>0.75</td>\n",
       "      <td>6</td>\n",
       "      <td>284</td>\n",
       "    </tr>\n",
       "    <tr>\n",
       "      <th>2</th>\n",
       "      <td>40.70665</td>\n",
       "      <td>-73.94061</td>\n",
       "      <td>190</td>\n",
       "      <td>4</td>\n",
       "      <td>50</td>\n",
       "      <td>0.51</td>\n",
       "      <td>1</td>\n",
       "      <td>331</td>\n",
       "    </tr>\n",
       "    <tr>\n",
       "      <th>3</th>\n",
       "      <td>40.68427</td>\n",
       "      <td>-73.95460</td>\n",
       "      <td>46</td>\n",
       "      <td>1</td>\n",
       "      <td>18</td>\n",
       "      <td>3.33</td>\n",
       "      <td>1</td>\n",
       "      <td>16</td>\n",
       "    </tr>\n",
       "    <tr>\n",
       "      <th>4</th>\n",
       "      <td>40.82028</td>\n",
       "      <td>-73.95381</td>\n",
       "      <td>65</td>\n",
       "      <td>1</td>\n",
       "      <td>3</td>\n",
       "      <td>0.08</td>\n",
       "      <td>1</td>\n",
       "      <td>0</td>\n",
       "    </tr>\n",
       "    <tr>\n",
       "      <th>...</th>\n",
       "      <td>...</td>\n",
       "      <td>...</td>\n",
       "      <td>...</td>\n",
       "      <td>...</td>\n",
       "      <td>...</td>\n",
       "      <td>...</td>\n",
       "      <td>...</td>\n",
       "      <td>...</td>\n",
       "    </tr>\n",
       "    <tr>\n",
       "      <th>29332</th>\n",
       "      <td>40.80724</td>\n",
       "      <td>-73.96348</td>\n",
       "      <td>189</td>\n",
       "      <td>2</td>\n",
       "      <td>1</td>\n",
       "      <td>0.03</td>\n",
       "      <td>1</td>\n",
       "      <td>0</td>\n",
       "    </tr>\n",
       "    <tr>\n",
       "      <th>29333</th>\n",
       "      <td>40.65554</td>\n",
       "      <td>-73.91840</td>\n",
       "      <td>70</td>\n",
       "      <td>7</td>\n",
       "      <td>0</td>\n",
       "      <td>0.00</td>\n",
       "      <td>9</td>\n",
       "      <td>365</td>\n",
       "    </tr>\n",
       "    <tr>\n",
       "      <th>29334</th>\n",
       "      <td>40.74038</td>\n",
       "      <td>-73.86964</td>\n",
       "      <td>19</td>\n",
       "      <td>1</td>\n",
       "      <td>15</td>\n",
       "      <td>2.78</td>\n",
       "      <td>3</td>\n",
       "      <td>236</td>\n",
       "    </tr>\n",
       "    <tr>\n",
       "      <th>29335</th>\n",
       "      <td>40.71398</td>\n",
       "      <td>-73.94702</td>\n",
       "      <td>169</td>\n",
       "      <td>5</td>\n",
       "      <td>60</td>\n",
       "      <td>2.22</td>\n",
       "      <td>1</td>\n",
       "      <td>50</td>\n",
       "    </tr>\n",
       "    <tr>\n",
       "      <th>29336</th>\n",
       "      <td>40.71375</td>\n",
       "      <td>-73.96312</td>\n",
       "      <td>80</td>\n",
       "      <td>7</td>\n",
       "      <td>0</td>\n",
       "      <td>0.00</td>\n",
       "      <td>1</td>\n",
       "      <td>0</td>\n",
       "    </tr>\n",
       "  </tbody>\n",
       "</table>\n",
       "<p>29337 rows × 8 columns</p>\n",
       "</div>"
      ],
      "text/plain": [
       "       latitude  longitude  price  minimum_nights  number_of_reviews  \\\n",
       "0      40.75965  -73.98652    215              29                  0   \n",
       "1      40.68062  -73.94418     62              30                  1   \n",
       "2      40.70665  -73.94061    190               4                 50   \n",
       "3      40.68427  -73.95460     46               1                 18   \n",
       "4      40.82028  -73.95381     65               1                  3   \n",
       "...         ...        ...    ...             ...                ...   \n",
       "29332  40.80724  -73.96348    189               2                  1   \n",
       "29333  40.65554  -73.91840     70               7                  0   \n",
       "29334  40.74038  -73.86964     19               1                 15   \n",
       "29335  40.71398  -73.94702    169               5                 60   \n",
       "29336  40.71375  -73.96312     80               7                  0   \n",
       "\n",
       "       reviews_per_month  calculated_host_listings_count  availability_365  \n",
       "0                   0.00                             327               338  \n",
       "1                   0.75                               6               284  \n",
       "2                   0.51                               1               331  \n",
       "3                   3.33                               1                16  \n",
       "4                   0.08                               1                 0  \n",
       "...                  ...                             ...               ...  \n",
       "29332               0.03                               1                 0  \n",
       "29333               0.00                               9               365  \n",
       "29334               2.78                               3               236  \n",
       "29335               2.22                               1                50  \n",
       "29336               0.00                               1                 0  \n",
       "\n",
       "[29337 rows x 8 columns]"
      ]
     },
     "execution_count": 24,
     "metadata": {},
     "output_type": "execute_result"
    }
   ],
   "source": [
    "train_zero"
   ]
  },
  {
   "cell_type": "code",
   "execution_count": 25,
   "id": "75375131",
   "metadata": {},
   "outputs": [],
   "source": [
    "y_train = np.log1p(train_zero.price.values)\n",
    "y_val = np.log1p(val_zero.price.values)\n",
    "y_test = np.log1p(test_zero.price.values)"
   ]
  },
  {
   "cell_type": "code",
   "execution_count": 26,
   "id": "ddb2c833",
   "metadata": {},
   "outputs": [
    {
     "data": {
      "text/plain": [
       "29337"
      ]
     },
     "execution_count": 26,
     "metadata": {},
     "output_type": "execute_result"
    }
   ],
   "source": [
    "len(y_train)"
   ]
  },
  {
   "cell_type": "code",
   "execution_count": 27,
   "id": "53be3186",
   "metadata": {},
   "outputs": [],
   "source": [
    "#drop the target variable \n",
    "del train_zero['price']\n",
    "del val_zero['price']\n",
    "del test_zero['price']"
   ]
  },
  {
   "cell_type": "markdown",
   "id": "1e724990",
   "metadata": {},
   "source": [
    "# Linear regression"
   ]
  },
  {
   "cell_type": "code",
   "execution_count": 65,
   "id": "e9af9dbb",
   "metadata": {},
   "outputs": [
    {
     "data": {
      "text/plain": [
       "latitude                          40.68872\n",
       "longitude                        -73.93183\n",
       "minimum_nights                     3.00000\n",
       "number_of_reviews                  1.00000\n",
       "reviews_per_month                  0.09000\n",
       "calculated_host_listings_count     1.00000\n",
       "availability_365                  17.00000\n",
       "Name: 2000, dtype: float64"
      ]
     },
     "execution_count": 65,
     "metadata": {},
     "output_type": "execute_result"
    }
   ],
   "source": [
    "#feature matrix of one house\n",
    "train_zero.iloc[2000]"
   ]
  },
  {
   "cell_type": "code",
   "execution_count": 39,
   "id": "bc6e3f86",
   "metadata": {},
   "outputs": [],
   "source": [
    "x10 = [40.70618, -73.91689, 30.00000, 1.00000,  0.09000, 1.00000, 6.00000]"
   ]
  },
  {
   "cell_type": "code",
   "execution_count": null,
   "id": "8ced5282",
   "metadata": {},
   "outputs": [],
   "source": [
    "x1000 = [40.71871,  -73.85320, 3.00000, 9.00000, 0.27000, 1.00000, 95.00000]"
   ]
  },
  {
   "cell_type": "code",
   "execution_count": null,
   "id": "d9a843c2",
   "metadata": {},
   "outputs": [],
   "source": [
    "x2000 = [40.68872, -73.93183, 3.00000, 1.00000, 0.09000, 1.00000, 17.00000]"
   ]
  },
  {
   "cell_type": "code",
   "execution_count": 40,
   "id": "b0cfb1b3",
   "metadata": {},
   "outputs": [],
   "source": [
    "w0 = 7.17\n",
    "w = [0.01, 0.04, 0.002, 0.005, 0.0003, 0.05, 0.03]"
   ]
  },
  {
   "cell_type": "code",
   "execution_count": 41,
   "id": "d9c6b9ee",
   "metadata": {},
   "outputs": [],
   "source": [
    "def linear_regression(xi):\n",
    "    n = len(xi)\n",
    "    \n",
    "    pred = w0\n",
    "    \n",
    "    for j in range(n):\n",
    "        pred = pred + w[j] * xi[j]\n",
    "        \n",
    "    return pred\n",
    "    "
   ]
  },
  {
   "cell_type": "code",
   "execution_count": 42,
   "id": "a5c97d3d",
   "metadata": {},
   "outputs": [
    {
     "data": {
      "text/plain": [
       "4.9154132"
      ]
     },
     "execution_count": 42,
     "metadata": {},
     "output_type": "execute_result"
    }
   ],
   "source": [
    "linear_regression(xi)"
   ]
  },
  {
   "cell_type": "code",
   "execution_count": 47,
   "id": "81c9b88f",
   "metadata": {},
   "outputs": [
    {
     "data": {
      "text/plain": [
       "135.37564858014483"
      ]
     },
     "execution_count": 47,
     "metadata": {},
     "output_type": "execute_result"
    }
   ],
   "source": [
    "#predicted price for the house\n",
    "np.expm1(4.9154132)"
   ]
  },
  {
   "cell_type": "markdown",
   "id": "7bec773a",
   "metadata": {},
   "source": [
    "# linear regression vector form"
   ]
  },
  {
   "cell_type": "code",
   "execution_count": 58,
   "id": "2c723746",
   "metadata": {},
   "outputs": [],
   "source": [
    "def dot(xi, w):\n",
    "    n = len(xi)\n",
    "    \n",
    "    res = 0.0\n",
    "    \n",
    "    for j in range(n):\n",
    "        res = res +xi[j] * w[j]\n",
    "        \n",
    "    return res"
   ]
  },
  {
   "cell_type": "code",
   "execution_count": 59,
   "id": "25a0e7ae",
   "metadata": {},
   "outputs": [],
   "source": [
    "def linear_regression(xi):\n",
    "    return w0 + dot(xi, w)\n",
    "    "
   ]
  },
  {
   "cell_type": "code",
   "execution_count": 60,
   "id": "d765330f",
   "metadata": {},
   "outputs": [],
   "source": [
    "w_new = [w0] + w"
   ]
  },
  {
   "cell_type": "code",
   "execution_count": 61,
   "id": "c21d9485",
   "metadata": {},
   "outputs": [
    {
     "data": {
      "text/plain": [
       "[7.17, 0.01, 0.04, 0.002, 0.005, 0.0003, 0.05, 0.03]"
      ]
     },
     "execution_count": 61,
     "metadata": {},
     "output_type": "execute_result"
    }
   ],
   "source": [
    "w_new"
   ]
  },
  {
   "cell_type": "code",
   "execution_count": 62,
   "id": "70945d82",
   "metadata": {},
   "outputs": [],
   "source": [
    "def linear_regression(xi):\n",
    "    xi = [1] + xi\n",
    "    return dot(xi, w_new)"
   ]
  },
  {
   "cell_type": "code",
   "execution_count": 63,
   "id": "02f8a0de",
   "metadata": {},
   "outputs": [
    {
     "data": {
      "text/plain": [
       "4.9154132"
      ]
     },
     "execution_count": 63,
     "metadata": {},
     "output_type": "execute_result"
    }
   ],
   "source": [
    "linear_regression(xi)"
   ]
  },
  {
   "cell_type": "code",
   "execution_count": 74,
   "id": "6863f09e",
   "metadata": {},
   "outputs": [],
   "source": [
    "#three houses\n",
    "x10 = [1, 40.70618, -73.91689, 30.00000, 1.00000,  0.09000, 1.00000, 6.00000]\n",
    "x1000 = [1, 40.71871,  -73.85320, 3.00000, 9.00000, 0.27000, 1.00000, 95.00000]\n",
    "x2000 = [1, 40.68872, -73.93183, 3.00000, 1.00000, 0.09000, 1.00000, 17.00000]\n",
    "\n",
    "X = [x10, x1000, x2000]\n",
    "X = np.array(X)"
   ]
  },
  {
   "cell_type": "code",
   "execution_count": 75,
   "id": "81300f75",
   "metadata": {},
   "outputs": [
    {
     "data": {
      "text/plain": [
       "array([[ 1.000000e+00,  4.070618e+01, -7.391689e+01,  3.000000e+01,\n",
       "         1.000000e+00,  9.000000e-02,  1.000000e+00,  6.000000e+00],\n",
       "       [ 1.000000e+00,  4.071871e+01, -7.385320e+01,  3.000000e+00,\n",
       "         9.000000e+00,  2.700000e-01,  1.000000e+00,  9.500000e+01],\n",
       "       [ 1.000000e+00,  4.068872e+01, -7.393183e+01,  3.000000e+00,\n",
       "         1.000000e+00,  9.000000e-02,  1.000000e+00,  1.700000e+01]])"
      ]
     },
     "execution_count": 75,
     "metadata": {},
     "output_type": "execute_result"
    }
   ],
   "source": [
    "X"
   ]
  },
  {
   "cell_type": "code",
   "execution_count": 76,
   "id": "5f533a05",
   "metadata": {},
   "outputs": [],
   "source": [
    "def linear_regression(X):\n",
    "    return X.dot(w_new)\n"
   ]
  },
  {
   "cell_type": "code",
   "execution_count": 77,
   "id": "971b0b76",
   "metadata": {},
   "outputs": [
    {
     "data": {
      "text/plain": [
       "array([4.9154132, 7.5741401, 5.190641 ])"
      ]
     },
     "execution_count": 77,
     "metadata": {},
     "output_type": "execute_result"
    }
   ],
   "source": [
    "linear_regression(X)"
   ]
  },
  {
   "cell_type": "code",
   "execution_count": null,
   "id": "1a0b5de6",
   "metadata": {},
   "outputs": [],
   "source": [
    "#we need to find a way to find the weights, w"
   ]
  },
  {
   "cell_type": "markdown",
   "id": "04237ed2",
   "metadata": {},
   "source": [
    "# training a linear regression model"
   ]
  },
  {
   "cell_type": "code",
   "execution_count": 78,
   "id": "da03dc16",
   "metadata": {},
   "outputs": [],
   "source": [
    "def train_linear_regression(X, y):\n",
    "    pass"
   ]
  },
  {
   "cell_type": "code",
   "execution_count": 120,
   "id": "1b9252da",
   "metadata": {
    "scrolled": false
   },
   "outputs": [
    {
     "data": {
      "text/plain": [
       "array([[ 4.089618e+01, -7.391689e+01,  3.000000e+01,  1.000000e+00,\n",
       "         9.000000e-02,  1.000000e+00,  6.000000e+00],\n",
       "       [ 4.071871e+01, -7.385320e+01,  3.000000e+00,  9.000000e+00,\n",
       "         2.900000e-01,  8.000000e+00,  8.500000e+01],\n",
       "       [ 4.098872e+01, -7.393183e+01,  3.000000e+00,  1.000000e+00,\n",
       "         9.000000e-02,  1.000000e+00,  1.700000e+01],\n",
       "       [ 4.070618e+01, -7.391689e+01,  3.000000e+01,  2.000000e+00,\n",
       "         9.000000e-02,  2.000000e+00,  6.000000e+00],\n",
       "       [ 4.032871e+01, -7.385320e+01,  3.000000e+00,  9.000000e+00,\n",
       "         2.800000e-01,  1.000000e+00,  2.500000e+01],\n",
       "       [ 4.068872e+01, -7.393183e+01,  7.000000e+00,  1.000000e+00,\n",
       "         9.000000e-02,  1.000000e+00,  1.700000e+01],\n",
       "       [ 4.070618e+01, -7.391689e+01,  3.000000e+01,  1.000000e+00,\n",
       "         9.000000e-02,  1.000000e+00,  6.000000e+00],\n",
       "       [ 4.071871e+01, -7.385320e+01,  3.000000e+00,  5.000000e+00,\n",
       "         2.300000e-01,  1.000000e+00,  5.500000e+01],\n",
       "       [ 4.067872e+01, -7.393183e+01,  3.900000e+01,  3.000000e+00,\n",
       "         7.000000e-02,  1.000000e+00,  2.700000e+01]])"
      ]
     },
     "execution_count": 120,
     "metadata": {},
     "output_type": "execute_result"
    }
   ],
   "source": [
    "X = [\n",
    "    [40.89618, -73.91689, 30.00000, 1.00000,  0.09000, 1.00000, 6.00000],\n",
    "    [40.71871,  -73.85320, 3.00000, 9.00000, 0.29000, 8.00000, 85.00000],\n",
    "    [40.98872, -73.93183, 3.00000, 1.00000, 0.09000, 1.00000, 17.00000],\n",
    "    [40.70618, -73.91689, 30.00000, 2.00000,  0.09000, 2.00000, 6.00000],\n",
    "    [40.32871,  -73.85320, 3.00000, 9.00000, 0.28000, 1.00000, 25.00000],\n",
    "    [40.68872, -73.93183, 7.00000, 1.00000, 0.09000, 1.00000, 17.00000],\n",
    "    [40.70618, -73.91689, 30.00000, 1.00000,  0.09000, 1.00000, 6.00000],\n",
    "    [40.71871,  -73.85320, 3.00000, 5.00000, 0.23000, 1.00000, 55.00000],\n",
    "    [40.67872, -73.93183, 39.00000, 3.00000, 0.07000, 1.00000, 27.00000]\n",
    "]\n",
    "X = np.array(X)\n",
    "X"
   ]
  },
  {
   "cell_type": "code",
   "execution_count": 121,
   "id": "3a59bc2a",
   "metadata": {
    "scrolled": true
   },
   "outputs": [
    {
     "data": {
      "text/plain": [
       "array([1., 1., 1., 1., 1., 1., 1., 1., 1.])"
      ]
     },
     "execution_count": 121,
     "metadata": {},
     "output_type": "execute_result"
    }
   ],
   "source": [
    "#the bias term, w0\n",
    "ones = np.ones(X.shape[0])\n",
    "ones"
   ]
  },
  {
   "cell_type": "code",
   "execution_count": 122,
   "id": "9df06c8b",
   "metadata": {},
   "outputs": [],
   "source": [
    "X = (np.column_stack([ones, X]))"
   ]
  },
  {
   "cell_type": "code",
   "execution_count": 123,
   "id": "9b9512b5",
   "metadata": {},
   "outputs": [],
   "source": [
    "y = [10000, 20000, 10050, 25000, 12000,10000, 26000, 15000, 25000]"
   ]
  },
  {
   "cell_type": "code",
   "execution_count": 124,
   "id": "8d34e029",
   "metadata": {},
   "outputs": [],
   "source": [
    "#gram matrix\n",
    "XTX = X.T.dot(X)"
   ]
  },
  {
   "cell_type": "code",
   "execution_count": 125,
   "id": "c859f4ba",
   "metadata": {},
   "outputs": [],
   "source": [
    "XTX_inv = np.linalg.inv(XTX)"
   ]
  },
  {
   "cell_type": "code",
   "execution_count": 126,
   "id": "278e6b19",
   "metadata": {},
   "outputs": [],
   "source": [
    "w_full = XTX_inv.dot(X.T).dot(y)"
   ]
  },
  {
   "cell_type": "code",
   "execution_count": 127,
   "id": "23d38215",
   "metadata": {},
   "outputs": [],
   "source": [
    "w0 = w_full[0]\n",
    "w = w_full[1:]"
   ]
  },
  {
   "cell_type": "code",
   "execution_count": 128,
   "id": "26668782",
   "metadata": {},
   "outputs": [
    {
     "data": {
      "text/plain": [
       "(55789928.260514095,\n",
       " array([-2.51435217e+04,  7.40051526e+05, -1.82825643e+02,  3.21173309e+03,\n",
       "        -5.03018090e+05,  3.02142456e+03,  2.66071448e+01]))"
      ]
     },
     "execution_count": 128,
     "metadata": {},
     "output_type": "execute_result"
    }
   ],
   "source": [
    "w0, w"
   ]
  },
  {
   "cell_type": "code",
   "execution_count": 129,
   "id": "49b375ca",
   "metadata": {},
   "outputs": [],
   "source": [
    "def train_linear_regression(X, y):\n",
    "    ones = np.ones(X.shape[0])\n",
    "    X = (np.column_stack([ones, X]))\n",
    "    \n",
    "    XTX = X.T.dot(X)\n",
    "    XTX_inv = np.linalg.inv(XTX)\n",
    "    w_full = XTX_inv.dot(X.T).dot(y)\n",
    "    \n",
    "    return w_full[0], w_full[1:]"
   ]
  },
  {
   "cell_type": "code",
   "execution_count": 130,
   "id": "cb11fe2d",
   "metadata": {},
   "outputs": [
    {
     "data": {
      "text/plain": [
       "(-1.4732920497212285e+17,\n",
       " array([ 1.47330443e+17,  1.11430922e+05,  1.91997130e+03,  5.57503476e+02,\n",
       "         8.99244052e+03, -4.28125590e+04, -2.40218747e+03, -2.97100331e+02]))"
      ]
     },
     "execution_count": 130,
     "metadata": {},
     "output_type": "execute_result"
    }
   ],
   "source": [
    "train_linear_regression(X, y)"
   ]
  },
  {
   "cell_type": "markdown",
   "id": "e96f9cfa",
   "metadata": {},
   "source": [
    "# House price base model"
   ]
  },
  {
   "cell_type": "code",
   "execution_count": 132,
   "id": "ccdcd895",
   "metadata": {},
   "outputs": [
    {
     "data": {
      "text/plain": [
       "latitude                          float64\n",
       "longitude                         float64\n",
       "minimum_nights                      int64\n",
       "number_of_reviews                   int64\n",
       "reviews_per_month                 float64\n",
       "calculated_host_listings_count      int64\n",
       "availability_365                    int64\n",
       "dtype: object"
      ]
     },
     "execution_count": 132,
     "metadata": {},
     "output_type": "execute_result"
    }
   ],
   "source": [
    "train_zero.dtypes"
   ]
  },
  {
   "cell_type": "code",
   "execution_count": 135,
   "id": "d0e667df",
   "metadata": {},
   "outputs": [],
   "source": [
    "base =['latitude',\n",
    "'longitude',\n",
    "'minimum_nights',\n",
    "'number_of_reviews',\n",
    "'reviews_per_month',\n",
    "'calculated_host_listings_count',\n",
    "'availability_365']"
   ]
  },
  {
   "cell_type": "code",
   "execution_count": 136,
   "id": "cac9b485",
   "metadata": {},
   "outputs": [],
   "source": [
    "X_train = train_zero[base].values"
   ]
  },
  {
   "cell_type": "code",
   "execution_count": 139,
   "id": "56052820",
   "metadata": {},
   "outputs": [],
   "source": [
    "w0, w = train_linear_regression(X_train, y_train)"
   ]
  },
  {
   "cell_type": "code",
   "execution_count": 142,
   "id": "9c08978a",
   "metadata": {},
   "outputs": [],
   "source": [
    "y_pred = w0 + X_train.dot(w)"
   ]
  },
  {
   "cell_type": "code",
   "execution_count": 147,
   "id": "5698728b",
   "metadata": {},
   "outputs": [
    {
     "data": {
      "text/plain": [
       "<AxesSubplot:ylabel='Count'>"
      ]
     },
     "execution_count": 147,
     "metadata": {},
     "output_type": "execute_result"
    },
    {
     "data": {
      "image/png": "[encoded data removed]",
      "text/plain": [
       "<Figure size 432x288 with 1 Axes>"
      ]
     },
     "metadata": {
      "needs_background": "light"
     },
     "output_type": "display_data"
    }
   ],
   "source": [
    "sns.histplot(y_pred, color='red',alpha=0.5, bins=50)\n",
    "sns.histplot(y_train, color = 'blue', alpha = 0.5, bins = 50)"
   ]
  },
  {
   "cell_type": "markdown",
   "id": "25e6e0e9",
   "metadata": {},
   "source": [
    "# evaluating the model\n",
    "rmse"
   ]
  },
  {
   "cell_type": "code",
   "execution_count": 150,
   "id": "05f8ce63",
   "metadata": {},
   "outputs": [],
   "source": [
    "def rmse (y, y_pred):\n",
    "    error = y - y_pred\n",
    "    se = error ** 2\n",
    "    mse = se.mean()\n",
    "    return np.sqrt(mse)"
   ]
  },
  {
   "cell_type": "code",
   "execution_count": 151,
   "id": "dbad470b",
   "metadata": {},
   "outputs": [
    {
     "data": {
      "text/plain": [
       "0.6427147625074131"
      ]
     },
     "execution_count": 151,
     "metadata": {},
     "output_type": "execute_result"
    }
   ],
   "source": [
    "rmse(y_train, y_pred)"
   ]
  },
  {
   "cell_type": "markdown",
   "id": "a4f0b152",
   "metadata": {},
   "source": [
    "# validating the model with the val data\n"
   ]
  },
  {
   "cell_type": "code",
   "execution_count": 152,
   "id": "69ae068c",
   "metadata": {},
   "outputs": [],
   "source": [
    "def prepare_X(df):\n",
    "    df_num = df[base]\n",
    "    df_num = df_num.fillna\n",
    "    X = df_num.values\n",
    "    return X"
   ]
  },
  {
   "cell_type": "code",
   "execution_count": 170,
   "id": "583043f6",
   "metadata": {},
   "outputs": [
    {
     "data": {
      "text/plain": [
       "0.64"
      ]
     },
     "execution_count": 170,
     "metadata": {},
     "output_type": "execute_result"
    }
   ],
   "source": [
    "#training the data set\n",
    "X_train = prepare_X(train_zero)\n",
    "w0, w = train_linear_regression(X_train, y_train)\n",
    "\n",
    "#validating on val set\n",
    "X_val = prepare_X(val_zero)\n",
    "y_pred = w0 + X_val.dot(w)\n",
    "\n",
    "rmse(y_val, y_pred).round(2)\n"
   ]
  },
  {
   "cell_type": "markdown",
   "id": "415f1927",
   "metadata": {},
   "source": [
    "# regularize the linear regression model"
   ]
  },
  {
   "cell_type": "code",
   "execution_count": null,
   "id": "9b7ca7a5",
   "metadata": {},
   "outputs": [],
   "source": []
  },
  {
   "cell_type": "code",
   "execution_count": 221,
   "id": "729a9d44",
   "metadata": {},
   "outputs": [],
   "source": [
    "def train_linear_regression_reg(X, y, r=r):\n",
    "    ones = np.ones(X.shape[0])\n",
    "    X = (np.column_stack([ones, X]))\n",
    "    \n",
    "    XTX = X.T.dot(X)\n",
    "    XTX = XTX + r * np.eye(XTX.shape[0])\n",
    "    \n",
    "    XTX_inv = np.linalg.inv(XTX)\n",
    "    w_full = XTX_inv.dot(X.T).dot(y)\n",
    "    \n",
    "    return w_full[0], w_full[1:]"
   ]
  },
  {
   "cell_type": "code",
   "execution_count": 224,
   "id": "cf4eebf7",
   "metadata": {},
   "outputs": [
    {
     "name": "stdout",
     "output_type": "stream",
     "text": [
      "0 -424.09897108764676 0.6366815960826652\n",
      "1e-06 -424.0483011032818 0.6366815039303166\n",
      "0.0001 -419.09123841723994 0.6366780503679338\n",
      "0.001 -378.8321932958356 0.6370577715915329\n",
      "0.01 -193.2195443163153 0.6481005921792292\n",
      "0.1 -32.75027368482483 0.6694397101601995\n",
      "1 -3.5184649948041633 0.6744327509799141\n",
      "5 -0.7073598157375466 0.6749517411436569\n",
      "10 -0.35335701701517064 0.6750442314170564\n"
     ]
    }
   ],
   "source": [
    "for r in [0, 0.000001, 0.0001, 0.001, 0.01, 0.1, 1, 5, 10]:\n",
    "    X_train = prepare_X(train_zero)\n",
    "    w0, w = train_linear_regression_reg(X_train, y_train, r=r)\n",
    "\n",
    "    #validating on val set\n",
    "    X_val = prepare_X(val_zero)\n",
    "    y_pred = w0 + X_val.dot(w)\n",
    "\n",
    "    score = rmse(y_val, y_pred)\n",
    "    \n",
    "    print(r,w0, score)\n",
    "    \n"
   ]
  },
  {
   "cell_type": "code",
   "execution_count": 225,
   "id": "30925f0a",
   "metadata": {},
   "outputs": [
    {
     "data": {
      "text/plain": [
       "0.6366780503679338"
      ]
     },
     "execution_count": 225,
     "metadata": {},
     "output_type": "execute_result"
    }
   ],
   "source": [
    "r = 0.0001\n",
    "X_train = prepare_X(train_zero)\n",
    "w0, w = train_linear_regression_reg(X_train, y_train, r=r)\n",
    "\n",
    "#validating on val set\n",
    "X_val = prepare_X(val_zero)\n",
    "y_pred = w0 + X_val.dot(w)\n",
    "\n",
    "score = rmse(y_val, y_pred)\n",
    "    \n",
    "score\n",
    "    "
   ]
  },
  {
   "cell_type": "markdown",
   "id": "32ebcfd3",
   "metadata": {},
   "source": [
    "# using the model on the test data"
   ]
  },
  {
   "cell_type": "code",
   "execution_count": 226,
   "id": "7783f3de",
   "metadata": {},
   "outputs": [],
   "source": [
    "df_full_train = pd.concat([train_zero, val_zero])"
   ]
  },
  {
   "cell_type": "code",
   "execution_count": 227,
   "id": "022747e3",
   "metadata": {},
   "outputs": [],
   "source": [
    "df_full_train = df_full_train.reset_index(drop=True)"
   ]
  },
  {
   "cell_type": "code",
   "execution_count": 228,
   "id": "56f41dbf",
   "metadata": {},
   "outputs": [],
   "source": [
    "X_full_train = prepare_X(df_full_train)"
   ]
  },
  {
   "cell_type": "code",
   "execution_count": 229,
   "id": "22b219e1",
   "metadata": {},
   "outputs": [
    {
     "data": {
      "text/plain": [
       "array([[ 40.75965, -73.98652,  29.     , ...,   0.     , 327.     ,\n",
       "        338.     ],\n",
       "       [ 40.68062, -73.94418,  30.     , ...,   0.75   ,   6.     ,\n",
       "        284.     ],\n",
       "       [ 40.70665, -73.94061,   4.     , ...,   0.51   ,   1.     ,\n",
       "        331.     ],\n",
       "       ...,\n",
       "       [ 40.72386, -73.9506 ,   2.     , ...,   0.59   ,   1.     ,\n",
       "         63.     ],\n",
       "       [ 40.73173, -73.899  ,   1.     , ...,   3.28   ,   1.     ,\n",
       "        183.     ],\n",
       "       [ 40.66789, -73.79197,   1.     , ...,   2.36   ,   1.     ,\n",
       "        178.     ]])"
      ]
     },
     "execution_count": 229,
     "metadata": {},
     "output_type": "execute_result"
    }
   ],
   "source": [
    "X_full_train"
   ]
  },
  {
   "cell_type": "code",
   "execution_count": 231,
   "id": "dbc1e01d",
   "metadata": {},
   "outputs": [],
   "source": [
    "y_full_train = np.concatenate([y_train, y_val])"
   ]
  },
  {
   "cell_type": "code",
   "execution_count": 232,
   "id": "bc58ec66",
   "metadata": {},
   "outputs": [],
   "source": [
    "w0, w = train_linear_regression_reg(X_full_train, y_full_train, r=0.0001)"
   ]
  },
  {
   "cell_type": "code",
   "execution_count": 233,
   "id": "3f32a28f",
   "metadata": {},
   "outputs": [
    {
     "data": {
      "text/plain": [
       "(-419.3671278092831,\n",
       " array([ 1.40193879e+00, -4.96184879e+00, -6.67809595e-04, -4.97250079e-04,\n",
       "        -4.59193123e-03,  1.39120680e-03,  6.52885804e-04]))"
      ]
     },
     "execution_count": 233,
     "metadata": {},
     "output_type": "execute_result"
    }
   ],
   "source": [
    "w0, w"
   ]
  },
  {
   "cell_type": "code",
   "execution_count": 234,
   "id": "3cb62ff6",
   "metadata": {},
   "outputs": [
    {
     "data": {
      "text/plain": [
       "0.6603573455249245"
      ]
     },
     "execution_count": 234,
     "metadata": {},
     "output_type": "execute_result"
    }
   ],
   "source": [
    "X_test = prepare_X(test_zero)\n",
    "y_pred = w0 + X_test.dot(w)\n",
    "\n",
    "score = rmse(y_test, y_pred)\n",
    "    \n",
    "score"
   ]
  },
  {
   "cell_type": "raw",
   "id": "294174fa",
   "metadata": {},
   "source": [
    "the model is good!"
   ]
  },
  {
   "cell_type": "raw",
   "id": "547616ca",
   "metadata": {},
   "source": [
    "to test it on one of the houses....lets select one house frrom the test data and predict the price."
   ]
  },
  {
   "cell_type": "code",
   "execution_count": 241,
   "id": "5e0421e4",
   "metadata": {},
   "outputs": [
    {
     "data": {
      "text/plain": [
       "{'latitude': 40.72488,\n",
       " 'longitude': -73.94932,\n",
       " 'minimum_nights': 1.0,\n",
       " 'number_of_reviews': 6.0,\n",
       " 'reviews_per_month': 0.5,\n",
       " 'calculated_host_listings_count': 1.0,\n",
       " 'availability_365': 6.0}"
      ]
     },
     "execution_count": 241,
     "metadata": {},
     "output_type": "execute_result"
    }
   ],
   "source": [
    "house = test_zero.iloc[300].to_dict()\n",
    "house"
   ]
  },
  {
   "cell_type": "code",
   "execution_count": 242,
   "id": "aedc2c2a",
   "metadata": {},
   "outputs": [
    {
     "data": {
      "text/html": [
       "<div>\n",
       "<style scoped>\n",
       "    .dataframe tbody tr th:only-of-type {\n",
       "        vertical-align: middle;\n",
       "    }\n",
       "\n",
       "    .dataframe tbody tr th {\n",
       "        vertical-align: top;\n",
       "    }\n",
       "\n",
       "    .dataframe thead th {\n",
       "        text-align: right;\n",
       "    }\n",
       "</style>\n",
       "<table border=\"1\" class=\"dataframe\">\n",
       "  <thead>\n",
       "    <tr style=\"text-align: right;\">\n",
       "      <th></th>\n",
       "      <th>latitude</th>\n",
       "      <th>longitude</th>\n",
       "      <th>minimum_nights</th>\n",
       "      <th>number_of_reviews</th>\n",
       "      <th>reviews_per_month</th>\n",
       "      <th>calculated_host_listings_count</th>\n",
       "      <th>availability_365</th>\n",
       "    </tr>\n",
       "  </thead>\n",
       "  <tbody>\n",
       "    <tr>\n",
       "      <th>0</th>\n",
       "      <td>40.72488</td>\n",
       "      <td>-73.94932</td>\n",
       "      <td>1.0</td>\n",
       "      <td>6.0</td>\n",
       "      <td>0.5</td>\n",
       "      <td>1.0</td>\n",
       "      <td>6.0</td>\n",
       "    </tr>\n",
       "  </tbody>\n",
       "</table>\n",
       "</div>"
      ],
      "text/plain": [
       "   latitude  longitude  minimum_nights  number_of_reviews  reviews_per_month  \\\n",
       "0  40.72488  -73.94932             1.0                6.0                0.5   \n",
       "\n",
       "   calculated_host_listings_count  availability_365  \n",
       "0                             1.0               6.0  "
      ]
     },
     "execution_count": 242,
     "metadata": {},
     "output_type": "execute_result"
    }
   ],
   "source": [
    "df_small = pd.DataFrame([house])\n",
    "df_small"
   ]
  },
  {
   "cell_type": "code",
   "execution_count": 243,
   "id": "050ccc08",
   "metadata": {},
   "outputs": [],
   "source": [
    "X_small = prepare_X(df_small)"
   ]
  },
  {
   "cell_type": "code",
   "execution_count": 245,
   "id": "ee70e85f",
   "metadata": {},
   "outputs": [
    {
     "data": {
      "text/plain": [
       "4.651366169177777"
      ]
     },
     "execution_count": 245,
     "metadata": {},
     "output_type": "execute_result"
    }
   ],
   "source": [
    "y_pred = w0 + X_small.dot(w)\n",
    "y_pred = y_pred[0]\n",
    "y_pred"
   ]
  },
  {
   "cell_type": "code",
   "execution_count": 246,
   "id": "557bace9",
   "metadata": {
    "scrolled": true
   },
   "outputs": [
    {
     "data": {
      "text/plain": [
       "103.7279640049904"
      ]
     },
     "execution_count": 246,
     "metadata": {},
     "output_type": "execute_result"
    }
   ],
   "source": [
    "np.expm1(y_pred)"
   ]
  },
  {
   "cell_type": "code",
   "execution_count": 250,
   "id": "fa8be41e",
   "metadata": {},
   "outputs": [
    {
     "data": {
      "text/plain": [
       "124.00000000000004"
      ]
     },
     "execution_count": 250,
     "metadata": {},
     "output_type": "execute_result"
    }
   ],
   "source": [
    "#now we check the actual price of the house\n",
    "np.expm1(y_test[300])"
   ]
  },
  {
   "cell_type": "raw",
   "id": "609bf48c",
   "metadata": {},
   "source": [
    "we see that is similar! our model did well\n"
   ]
  },
  {
   "cell_type": "markdown",
   "id": "768a3509",
   "metadata": {},
   "source": [
    "# The End"
   ]
  },
  {
   "cell_type": "code",
   "execution_count": null,
   "id": "08167859",
   "metadata": {},
   "outputs": [],
   "source": []
  }
 ],
 "metadata": {
  "kernelspec": {
   "display_name": "Python 3 (ipykernel)",
   "language": "python",
   "name": "python3"
  },
  "language_info": {
   "codemirror_mode": {
    "name": "ipython",
    "version": 3
   },
   "file_extension": ".py",
   "mimetype": "text/x-python",
   "name": "python",
   "nbconvert_exporter": "python",
   "pygments_lexer": "ipython3",
   "version": "3.9.6"
  }
 },
 "nbformat": 4,
 "nbformat_minor": 5
}
