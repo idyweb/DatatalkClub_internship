{
 "cells": [
  {
   "cell_type": "code",
   "execution_count": 1,
   "id": "6571a656",
   "metadata": {
    "id": "6571a656"
   },
   "outputs": [],
   "source": [
    "#import necessary library\n",
    "import pandas as pd\n",
    "import numpy as np\n",
    "import matplotlib.pyplot as plt\n",
    "import seaborn as sns\n",
    "%matplotlib inline"
   ]
  },
  {
   "cell_type": "code",
   "execution_count": 2,
   "id": "b5693b9f",
   "metadata": {
    "colab": {
     "base_uri": "https://localhost:8080/",
     "height": 206
    },
    "id": "b5693b9f",
    "outputId": "2f6d9a09-1c1a-4d3b-bd70-cc6a1f931469"
   },
   "outputs": [
    {
     "data": {
      "text/html": [
       "<div>\n",
       "<style scoped>\n",
       "    .dataframe tbody tr th:only-of-type {\n",
       "        vertical-align: middle;\n",
       "    }\n",
       "\n",
       "    .dataframe tbody tr th {\n",
       "        vertical-align: top;\n",
       "    }\n",
       "\n",
       "    .dataframe thead th {\n",
       "        text-align: right;\n",
       "    }\n",
       "</style>\n",
       "<table border=\"1\" class=\"dataframe\">\n",
       "  <thead>\n",
       "    <tr style=\"text-align: right;\">\n",
       "      <th></th>\n",
       "      <th>longitude</th>\n",
       "      <th>latitude</th>\n",
       "      <th>housing_median_age</th>\n",
       "      <th>total_rooms</th>\n",
       "      <th>total_bedrooms</th>\n",
       "      <th>population</th>\n",
       "      <th>households</th>\n",
       "      <th>median_income</th>\n",
       "      <th>median_house_value</th>\n",
       "      <th>ocean_proximity</th>\n",
       "    </tr>\n",
       "  </thead>\n",
       "  <tbody>\n",
       "    <tr>\n",
       "      <th>0</th>\n",
       "      <td>-122.23</td>\n",
       "      <td>37.88</td>\n",
       "      <td>41.0</td>\n",
       "      <td>880.0</td>\n",
       "      <td>129.0</td>\n",
       "      <td>322.0</td>\n",
       "      <td>126.0</td>\n",
       "      <td>8.3252</td>\n",
       "      <td>452600.0</td>\n",
       "      <td>NEAR BAY</td>\n",
       "    </tr>\n",
       "    <tr>\n",
       "      <th>1</th>\n",
       "      <td>-122.22</td>\n",
       "      <td>37.86</td>\n",
       "      <td>21.0</td>\n",
       "      <td>7099.0</td>\n",
       "      <td>1106.0</td>\n",
       "      <td>2401.0</td>\n",
       "      <td>1138.0</td>\n",
       "      <td>8.3014</td>\n",
       "      <td>358500.0</td>\n",
       "      <td>NEAR BAY</td>\n",
       "    </tr>\n",
       "    <tr>\n",
       "      <th>2</th>\n",
       "      <td>-122.24</td>\n",
       "      <td>37.85</td>\n",
       "      <td>52.0</td>\n",
       "      <td>1467.0</td>\n",
       "      <td>190.0</td>\n",
       "      <td>496.0</td>\n",
       "      <td>177.0</td>\n",
       "      <td>7.2574</td>\n",
       "      <td>352100.0</td>\n",
       "      <td>NEAR BAY</td>\n",
       "    </tr>\n",
       "    <tr>\n",
       "      <th>3</th>\n",
       "      <td>-122.25</td>\n",
       "      <td>37.85</td>\n",
       "      <td>52.0</td>\n",
       "      <td>1274.0</td>\n",
       "      <td>235.0</td>\n",
       "      <td>558.0</td>\n",
       "      <td>219.0</td>\n",
       "      <td>5.6431</td>\n",
       "      <td>341300.0</td>\n",
       "      <td>NEAR BAY</td>\n",
       "    </tr>\n",
       "    <tr>\n",
       "      <th>4</th>\n",
       "      <td>-122.25</td>\n",
       "      <td>37.85</td>\n",
       "      <td>52.0</td>\n",
       "      <td>1627.0</td>\n",
       "      <td>280.0</td>\n",
       "      <td>565.0</td>\n",
       "      <td>259.0</td>\n",
       "      <td>3.8462</td>\n",
       "      <td>342200.0</td>\n",
       "      <td>NEAR BAY</td>\n",
       "    </tr>\n",
       "  </tbody>\n",
       "</table>\n",
       "</div>"
      ],
      "text/plain": [
       "   longitude  latitude  housing_median_age  total_rooms  total_bedrooms  \\\n",
       "0    -122.23     37.88                41.0        880.0           129.0   \n",
       "1    -122.22     37.86                21.0       7099.0          1106.0   \n",
       "2    -122.24     37.85                52.0       1467.0           190.0   \n",
       "3    -122.25     37.85                52.0       1274.0           235.0   \n",
       "4    -122.25     37.85                52.0       1627.0           280.0   \n",
       "\n",
       "   population  households  median_income  median_house_value ocean_proximity  \n",
       "0       322.0       126.0         8.3252            452600.0        NEAR BAY  \n",
       "1      2401.0      1138.0         8.3014            358500.0        NEAR BAY  \n",
       "2       496.0       177.0         7.2574            352100.0        NEAR BAY  \n",
       "3       558.0       219.0         5.6431            341300.0        NEAR BAY  \n",
       "4       565.0       259.0         3.8462            342200.0        NEAR BAY  "
      ]
     },
     "execution_count": 2,
     "metadata": {},
     "output_type": "execute_result"
    }
   ],
   "source": [
    "df = pd.read_csv('https://raw.githubusercontent.com/alexeygrigorev/datasets/master/housing.csv')\n",
    "df.head()"
   ]
  },
  {
   "cell_type": "markdown",
   "id": "aaf39a08",
   "metadata": {
    "id": "aaf39a08"
   },
   "source": [
    "First i check for missing values and i fill them with 0."
   ]
  },
  {
   "cell_type": "code",
   "execution_count": 3,
   "id": "1d1bf371",
   "metadata": {
    "colab": {
     "base_uri": "https://localhost:8080/"
    },
    "id": "1d1bf371",
    "outputId": "0a6a90d3-cc06-4631-f84a-ad5b3d439e30"
   },
   "outputs": [
    {
     "data": {
      "text/plain": [
       "longitude               0\n",
       "latitude                0\n",
       "housing_median_age      0\n",
       "total_rooms             0\n",
       "total_bedrooms        207\n",
       "population              0\n",
       "households              0\n",
       "median_income           0\n",
       "median_house_value      0\n",
       "ocean_proximity         0\n",
       "dtype: int64"
      ]
     },
     "execution_count": 3,
     "metadata": {},
     "output_type": "execute_result"
    }
   ],
   "source": [
    "df.isnull().sum()"
   ]
  },
  {
   "cell_type": "code",
   "execution_count": 4,
   "id": "fb6c7f1a",
   "metadata": {
    "id": "fb6c7f1a"
   },
   "outputs": [],
   "source": [
    "df = df.fillna(0)"
   ]
  },
  {
   "cell_type": "code",
   "execution_count": 5,
   "id": "107f8b9c",
   "metadata": {
    "colab": {
     "base_uri": "https://localhost:8080/"
    },
    "id": "107f8b9c",
    "outputId": "777376ea-2e9f-4fbb-f93c-1c2e5b6ee206",
    "scrolled": true
   },
   "outputs": [
    {
     "data": {
      "text/plain": [
       "longitude             0\n",
       "latitude              0\n",
       "housing_median_age    0\n",
       "total_rooms           0\n",
       "total_bedrooms        0\n",
       "population            0\n",
       "households            0\n",
       "median_income         0\n",
       "median_house_value    0\n",
       "ocean_proximity       0\n",
       "dtype: int64"
      ]
     },
     "execution_count": 5,
     "metadata": {},
     "output_type": "execute_result"
    }
   ],
   "source": [
    "df.isnull().sum()"
   ]
  },
  {
   "cell_type": "code",
   "execution_count": 6,
   "id": "bb44b9d5",
   "metadata": {
    "colab": {
     "base_uri": "https://localhost:8080/",
     "height": 488
    },
    "id": "bb44b9d5",
    "outputId": "f3d5d299-571f-4abc-db3e-f970c339d967"
   },
   "outputs": [
    {
     "data": {
      "text/html": [
       "<div>\n",
       "<style scoped>\n",
       "    .dataframe tbody tr th:only-of-type {\n",
       "        vertical-align: middle;\n",
       "    }\n",
       "\n",
       "    .dataframe tbody tr th {\n",
       "        vertical-align: top;\n",
       "    }\n",
       "\n",
       "    .dataframe thead th {\n",
       "        text-align: right;\n",
       "    }\n",
       "</style>\n",
       "<table border=\"1\" class=\"dataframe\">\n",
       "  <thead>\n",
       "    <tr style=\"text-align: right;\">\n",
       "      <th></th>\n",
       "      <th>longitude</th>\n",
       "      <th>latitude</th>\n",
       "      <th>housing_median_age</th>\n",
       "      <th>total_rooms</th>\n",
       "      <th>total_bedrooms</th>\n",
       "      <th>population</th>\n",
       "      <th>households</th>\n",
       "      <th>median_income</th>\n",
       "      <th>median_house_value</th>\n",
       "      <th>ocean_proximity</th>\n",
       "      <th>rooms_per_household</th>\n",
       "      <th>bedrooms_per_room</th>\n",
       "      <th>population_per_household</th>\n",
       "    </tr>\n",
       "  </thead>\n",
       "  <tbody>\n",
       "    <tr>\n",
       "      <th>0</th>\n",
       "      <td>-122.23</td>\n",
       "      <td>37.88</td>\n",
       "      <td>41.0</td>\n",
       "      <td>880.0</td>\n",
       "      <td>129.0</td>\n",
       "      <td>322.0</td>\n",
       "      <td>126.0</td>\n",
       "      <td>8.3252</td>\n",
       "      <td>452600.0</td>\n",
       "      <td>NEAR BAY</td>\n",
       "      <td>6.984127</td>\n",
       "      <td>0.146591</td>\n",
       "      <td>2.555556</td>\n",
       "    </tr>\n",
       "    <tr>\n",
       "      <th>1</th>\n",
       "      <td>-122.22</td>\n",
       "      <td>37.86</td>\n",
       "      <td>21.0</td>\n",
       "      <td>7099.0</td>\n",
       "      <td>1106.0</td>\n",
       "      <td>2401.0</td>\n",
       "      <td>1138.0</td>\n",
       "      <td>8.3014</td>\n",
       "      <td>358500.0</td>\n",
       "      <td>NEAR BAY</td>\n",
       "      <td>6.238137</td>\n",
       "      <td>0.155797</td>\n",
       "      <td>2.109842</td>\n",
       "    </tr>\n",
       "    <tr>\n",
       "      <th>2</th>\n",
       "      <td>-122.24</td>\n",
       "      <td>37.85</td>\n",
       "      <td>52.0</td>\n",
       "      <td>1467.0</td>\n",
       "      <td>190.0</td>\n",
       "      <td>496.0</td>\n",
       "      <td>177.0</td>\n",
       "      <td>7.2574</td>\n",
       "      <td>352100.0</td>\n",
       "      <td>NEAR BAY</td>\n",
       "      <td>8.288136</td>\n",
       "      <td>0.129516</td>\n",
       "      <td>2.802260</td>\n",
       "    </tr>\n",
       "    <tr>\n",
       "      <th>3</th>\n",
       "      <td>-122.25</td>\n",
       "      <td>37.85</td>\n",
       "      <td>52.0</td>\n",
       "      <td>1274.0</td>\n",
       "      <td>235.0</td>\n",
       "      <td>558.0</td>\n",
       "      <td>219.0</td>\n",
       "      <td>5.6431</td>\n",
       "      <td>341300.0</td>\n",
       "      <td>NEAR BAY</td>\n",
       "      <td>5.817352</td>\n",
       "      <td>0.184458</td>\n",
       "      <td>2.547945</td>\n",
       "    </tr>\n",
       "    <tr>\n",
       "      <th>4</th>\n",
       "      <td>-122.25</td>\n",
       "      <td>37.85</td>\n",
       "      <td>52.0</td>\n",
       "      <td>1627.0</td>\n",
       "      <td>280.0</td>\n",
       "      <td>565.0</td>\n",
       "      <td>259.0</td>\n",
       "      <td>3.8462</td>\n",
       "      <td>342200.0</td>\n",
       "      <td>NEAR BAY</td>\n",
       "      <td>6.281853</td>\n",
       "      <td>0.172096</td>\n",
       "      <td>2.181467</td>\n",
       "    </tr>\n",
       "    <tr>\n",
       "      <th>...</th>\n",
       "      <td>...</td>\n",
       "      <td>...</td>\n",
       "      <td>...</td>\n",
       "      <td>...</td>\n",
       "      <td>...</td>\n",
       "      <td>...</td>\n",
       "      <td>...</td>\n",
       "      <td>...</td>\n",
       "      <td>...</td>\n",
       "      <td>...</td>\n",
       "      <td>...</td>\n",
       "      <td>...</td>\n",
       "      <td>...</td>\n",
       "    </tr>\n",
       "    <tr>\n",
       "      <th>20635</th>\n",
       "      <td>-121.09</td>\n",
       "      <td>39.48</td>\n",
       "      <td>25.0</td>\n",
       "      <td>1665.0</td>\n",
       "      <td>374.0</td>\n",
       "      <td>845.0</td>\n",
       "      <td>330.0</td>\n",
       "      <td>1.5603</td>\n",
       "      <td>78100.0</td>\n",
       "      <td>INLAND</td>\n",
       "      <td>5.045455</td>\n",
       "      <td>0.224625</td>\n",
       "      <td>2.560606</td>\n",
       "    </tr>\n",
       "    <tr>\n",
       "      <th>20636</th>\n",
       "      <td>-121.21</td>\n",
       "      <td>39.49</td>\n",
       "      <td>18.0</td>\n",
       "      <td>697.0</td>\n",
       "      <td>150.0</td>\n",
       "      <td>356.0</td>\n",
       "      <td>114.0</td>\n",
       "      <td>2.5568</td>\n",
       "      <td>77100.0</td>\n",
       "      <td>INLAND</td>\n",
       "      <td>6.114035</td>\n",
       "      <td>0.215208</td>\n",
       "      <td>3.122807</td>\n",
       "    </tr>\n",
       "    <tr>\n",
       "      <th>20637</th>\n",
       "      <td>-121.22</td>\n",
       "      <td>39.43</td>\n",
       "      <td>17.0</td>\n",
       "      <td>2254.0</td>\n",
       "      <td>485.0</td>\n",
       "      <td>1007.0</td>\n",
       "      <td>433.0</td>\n",
       "      <td>1.7000</td>\n",
       "      <td>92300.0</td>\n",
       "      <td>INLAND</td>\n",
       "      <td>5.205543</td>\n",
       "      <td>0.215173</td>\n",
       "      <td>2.325635</td>\n",
       "    </tr>\n",
       "    <tr>\n",
       "      <th>20638</th>\n",
       "      <td>-121.32</td>\n",
       "      <td>39.43</td>\n",
       "      <td>18.0</td>\n",
       "      <td>1860.0</td>\n",
       "      <td>409.0</td>\n",
       "      <td>741.0</td>\n",
       "      <td>349.0</td>\n",
       "      <td>1.8672</td>\n",
       "      <td>84700.0</td>\n",
       "      <td>INLAND</td>\n",
       "      <td>5.329513</td>\n",
       "      <td>0.219892</td>\n",
       "      <td>2.123209</td>\n",
       "    </tr>\n",
       "    <tr>\n",
       "      <th>20639</th>\n",
       "      <td>-121.24</td>\n",
       "      <td>39.37</td>\n",
       "      <td>16.0</td>\n",
       "      <td>2785.0</td>\n",
       "      <td>616.0</td>\n",
       "      <td>1387.0</td>\n",
       "      <td>530.0</td>\n",
       "      <td>2.3886</td>\n",
       "      <td>89400.0</td>\n",
       "      <td>INLAND</td>\n",
       "      <td>5.254717</td>\n",
       "      <td>0.221185</td>\n",
       "      <td>2.616981</td>\n",
       "    </tr>\n",
       "  </tbody>\n",
       "</table>\n",
       "<p>20640 rows × 13 columns</p>\n",
       "</div>"
      ],
      "text/plain": [
       "       longitude  latitude  housing_median_age  total_rooms  total_bedrooms  \\\n",
       "0        -122.23     37.88                41.0        880.0           129.0   \n",
       "1        -122.22     37.86                21.0       7099.0          1106.0   \n",
       "2        -122.24     37.85                52.0       1467.0           190.0   \n",
       "3        -122.25     37.85                52.0       1274.0           235.0   \n",
       "4        -122.25     37.85                52.0       1627.0           280.0   \n",
       "...          ...       ...                 ...          ...             ...   \n",
       "20635    -121.09     39.48                25.0       1665.0           374.0   \n",
       "20636    -121.21     39.49                18.0        697.0           150.0   \n",
       "20637    -121.22     39.43                17.0       2254.0           485.0   \n",
       "20638    -121.32     39.43                18.0       1860.0           409.0   \n",
       "20639    -121.24     39.37                16.0       2785.0           616.0   \n",
       "\n",
       "       population  households  median_income  median_house_value  \\\n",
       "0           322.0       126.0         8.3252            452600.0   \n",
       "1          2401.0      1138.0         8.3014            358500.0   \n",
       "2           496.0       177.0         7.2574            352100.0   \n",
       "3           558.0       219.0         5.6431            341300.0   \n",
       "4           565.0       259.0         3.8462            342200.0   \n",
       "...           ...         ...            ...                 ...   \n",
       "20635       845.0       330.0         1.5603             78100.0   \n",
       "20636       356.0       114.0         2.5568             77100.0   \n",
       "20637      1007.0       433.0         1.7000             92300.0   \n",
       "20638       741.0       349.0         1.8672             84700.0   \n",
       "20639      1387.0       530.0         2.3886             89400.0   \n",
       "\n",
       "      ocean_proximity  rooms_per_household  bedrooms_per_room  \\\n",
       "0            NEAR BAY             6.984127           0.146591   \n",
       "1            NEAR BAY             6.238137           0.155797   \n",
       "2            NEAR BAY             8.288136           0.129516   \n",
       "3            NEAR BAY             5.817352           0.184458   \n",
       "4            NEAR BAY             6.281853           0.172096   \n",
       "...               ...                  ...                ...   \n",
       "20635          INLAND             5.045455           0.224625   \n",
       "20636          INLAND             6.114035           0.215208   \n",
       "20637          INLAND             5.205543           0.215173   \n",
       "20638          INLAND             5.329513           0.219892   \n",
       "20639          INLAND             5.254717           0.221185   \n",
       "\n",
       "       population_per_household  \n",
       "0                      2.555556  \n",
       "1                      2.109842  \n",
       "2                      2.802260  \n",
       "3                      2.547945  \n",
       "4                      2.181467  \n",
       "...                         ...  \n",
       "20635                  2.560606  \n",
       "20636                  3.122807  \n",
       "20637                  2.325635  \n",
       "20638                  2.123209  \n",
       "20639                  2.616981  \n",
       "\n",
       "[20640 rows x 13 columns]"
      ]
     },
     "execution_count": 6,
     "metadata": {},
     "output_type": "execute_result"
    }
   ],
   "source": [
    "#create a new column rooms_per_household\n",
    "df['rooms_per_household'] = df['total_rooms'] / df['households']\n",
    "df['bedrooms_per_room'] = df['total_bedrooms'] / df['total_rooms']\n",
    "df['population_per_household'] = df['population'] / df['households']\n",
    "df"
   ]
  },
  {
   "cell_type": "markdown",
   "id": "b01b455e",
   "metadata": {
    "id": "b01b455e"
   },
   "source": [
    "# Question 1\n",
    "What is the most frequent observation (mode) for the column ocean_proximity?"
   ]
  },
  {
   "cell_type": "code",
   "execution_count": 7,
   "id": "6deb9586",
   "metadata": {
    "colab": {
     "base_uri": "https://localhost:8080/"
    },
    "id": "6deb9586",
    "outputId": "01486baa-0648-44ac-8ba9-9d90558dfcc3"
   },
   "outputs": [
    {
     "data": {
      "text/plain": [
       "0    <1H OCEAN\n",
       "dtype: object"
      ]
     },
     "execution_count": 7,
     "metadata": {},
     "output_type": "execute_result"
    }
   ],
   "source": [
    "df['ocean_proximity'].mode()"
   ]
  },
  {
   "cell_type": "markdown",
   "id": "33759d11",
   "metadata": {
    "id": "33759d11"
   },
   "source": [
    "answer: OCEAN"
   ]
  },
  {
   "cell_type": "markdown",
   "id": "c3fdfb3b",
   "metadata": {
    "id": "c3fdfb3b"
   },
   "source": [
    "# Question 2\n",
    "Create the correlation matrix for the numerical features of your train dataset.\n",
    "In a correlation matrix, you compute the correlation coefficient between every pair of features in the dataset.\n",
    "What are the two features that have the biggest correlation in this dataset?"
   ]
  },
  {
   "cell_type": "code",
   "execution_count": 8,
   "id": "6ce5de40",
   "metadata": {
    "id": "6ce5de40"
   },
   "outputs": [],
   "source": [
    "numerical = ['longitude', 'latitude', 'housing_median_age', 'total_rooms',\n",
    "       'total_bedrooms', 'population', 'households', 'median_income', 'rooms_per_household',\n",
    "       'bedrooms_per_room', 'population_per_household']"
   ]
  },
  {
   "cell_type": "code",
   "execution_count": 9,
   "id": "bdfba3f5",
   "metadata": {
    "colab": {
     "base_uri": "https://localhost:8080/",
     "height": 458
    },
    "id": "bdfba3f5",
    "outputId": "7d5da993-c67b-4754-b32d-f2b2ee93b0f0"
   },
   "outputs": [
    {
     "data": {
      "text/html": [
       "<div>\n",
       "<style scoped>\n",
       "    .dataframe tbody tr th:only-of-type {\n",
       "        vertical-align: middle;\n",
       "    }\n",
       "\n",
       "    .dataframe tbody tr th {\n",
       "        vertical-align: top;\n",
       "    }\n",
       "\n",
       "    .dataframe thead th {\n",
       "        text-align: right;\n",
       "    }\n",
       "</style>\n",
       "<table border=\"1\" class=\"dataframe\">\n",
       "  <thead>\n",
       "    <tr style=\"text-align: right;\">\n",
       "      <th></th>\n",
       "      <th>longitude</th>\n",
       "      <th>latitude</th>\n",
       "      <th>housing_median_age</th>\n",
       "      <th>total_rooms</th>\n",
       "      <th>total_bedrooms</th>\n",
       "      <th>population</th>\n",
       "      <th>households</th>\n",
       "      <th>median_income</th>\n",
       "      <th>rooms_per_household</th>\n",
       "      <th>bedrooms_per_room</th>\n",
       "      <th>population_per_household</th>\n",
       "    </tr>\n",
       "  </thead>\n",
       "  <tbody>\n",
       "    <tr>\n",
       "      <th>longitude</th>\n",
       "      <td>1.000</td>\n",
       "      <td>-0.925</td>\n",
       "      <td>-0.108</td>\n",
       "      <td>0.045</td>\n",
       "      <td>0.068</td>\n",
       "      <td>0.100</td>\n",
       "      <td>0.055</td>\n",
       "      <td>-0.015</td>\n",
       "      <td>-0.028</td>\n",
       "      <td>0.085</td>\n",
       "      <td>0.002</td>\n",
       "    </tr>\n",
       "    <tr>\n",
       "      <th>latitude</th>\n",
       "      <td>-0.925</td>\n",
       "      <td>1.000</td>\n",
       "      <td>0.011</td>\n",
       "      <td>-0.036</td>\n",
       "      <td>-0.065</td>\n",
       "      <td>-0.109</td>\n",
       "      <td>-0.071</td>\n",
       "      <td>-0.080</td>\n",
       "      <td>0.106</td>\n",
       "      <td>-0.104</td>\n",
       "      <td>0.002</td>\n",
       "    </tr>\n",
       "    <tr>\n",
       "      <th>housing_median_age</th>\n",
       "      <td>-0.108</td>\n",
       "      <td>0.011</td>\n",
       "      <td>1.000</td>\n",
       "      <td>-0.361</td>\n",
       "      <td>-0.317</td>\n",
       "      <td>-0.296</td>\n",
       "      <td>-0.303</td>\n",
       "      <td>-0.119</td>\n",
       "      <td>-0.153</td>\n",
       "      <td>0.125</td>\n",
       "      <td>0.013</td>\n",
       "    </tr>\n",
       "    <tr>\n",
       "      <th>total_rooms</th>\n",
       "      <td>0.045</td>\n",
       "      <td>-0.036</td>\n",
       "      <td>-0.361</td>\n",
       "      <td>1.000</td>\n",
       "      <td>0.920</td>\n",
       "      <td>0.857</td>\n",
       "      <td>0.918</td>\n",
       "      <td>0.198</td>\n",
       "      <td>0.134</td>\n",
       "      <td>-0.175</td>\n",
       "      <td>-0.025</td>\n",
       "    </tr>\n",
       "    <tr>\n",
       "      <th>total_bedrooms</th>\n",
       "      <td>0.068</td>\n",
       "      <td>-0.065</td>\n",
       "      <td>-0.317</td>\n",
       "      <td>0.920</td>\n",
       "      <td>1.000</td>\n",
       "      <td>0.866</td>\n",
       "      <td>0.967</td>\n",
       "      <td>-0.007</td>\n",
       "      <td>0.003</td>\n",
       "      <td>0.122</td>\n",
       "      <td>-0.028</td>\n",
       "    </tr>\n",
       "    <tr>\n",
       "      <th>population</th>\n",
       "      <td>0.100</td>\n",
       "      <td>-0.109</td>\n",
       "      <td>-0.296</td>\n",
       "      <td>0.857</td>\n",
       "      <td>0.866</td>\n",
       "      <td>1.000</td>\n",
       "      <td>0.907</td>\n",
       "      <td>0.005</td>\n",
       "      <td>-0.072</td>\n",
       "      <td>0.031</td>\n",
       "      <td>0.070</td>\n",
       "    </tr>\n",
       "    <tr>\n",
       "      <th>households</th>\n",
       "      <td>0.055</td>\n",
       "      <td>-0.071</td>\n",
       "      <td>-0.303</td>\n",
       "      <td>0.918</td>\n",
       "      <td>0.967</td>\n",
       "      <td>0.907</td>\n",
       "      <td>1.000</td>\n",
       "      <td>0.013</td>\n",
       "      <td>-0.081</td>\n",
       "      <td>0.060</td>\n",
       "      <td>-0.027</td>\n",
       "    </tr>\n",
       "    <tr>\n",
       "      <th>median_income</th>\n",
       "      <td>-0.015</td>\n",
       "      <td>-0.080</td>\n",
       "      <td>-0.119</td>\n",
       "      <td>0.198</td>\n",
       "      <td>-0.007</td>\n",
       "      <td>0.005</td>\n",
       "      <td>0.013</td>\n",
       "      <td>1.000</td>\n",
       "      <td>0.327</td>\n",
       "      <td>-0.574</td>\n",
       "      <td>0.019</td>\n",
       "    </tr>\n",
       "    <tr>\n",
       "      <th>rooms_per_household</th>\n",
       "      <td>-0.028</td>\n",
       "      <td>0.106</td>\n",
       "      <td>-0.153</td>\n",
       "      <td>0.134</td>\n",
       "      <td>0.003</td>\n",
       "      <td>-0.072</td>\n",
       "      <td>-0.081</td>\n",
       "      <td>0.327</td>\n",
       "      <td>1.000</td>\n",
       "      <td>-0.387</td>\n",
       "      <td>-0.005</td>\n",
       "    </tr>\n",
       "    <tr>\n",
       "      <th>bedrooms_per_room</th>\n",
       "      <td>0.085</td>\n",
       "      <td>-0.104</td>\n",
       "      <td>0.125</td>\n",
       "      <td>-0.175</td>\n",
       "      <td>0.122</td>\n",
       "      <td>0.031</td>\n",
       "      <td>0.060</td>\n",
       "      <td>-0.574</td>\n",
       "      <td>-0.387</td>\n",
       "      <td>1.000</td>\n",
       "      <td>0.003</td>\n",
       "    </tr>\n",
       "    <tr>\n",
       "      <th>population_per_household</th>\n",
       "      <td>0.002</td>\n",
       "      <td>0.002</td>\n",
       "      <td>0.013</td>\n",
       "      <td>-0.025</td>\n",
       "      <td>-0.028</td>\n",
       "      <td>0.070</td>\n",
       "      <td>-0.027</td>\n",
       "      <td>0.019</td>\n",
       "      <td>-0.005</td>\n",
       "      <td>0.003</td>\n",
       "      <td>1.000</td>\n",
       "    </tr>\n",
       "  </tbody>\n",
       "</table>\n",
       "</div>"
      ],
      "text/plain": [
       "                          longitude  latitude  housing_median_age  \\\n",
       "longitude                     1.000    -0.925              -0.108   \n",
       "latitude                     -0.925     1.000               0.011   \n",
       "housing_median_age           -0.108     0.011               1.000   \n",
       "total_rooms                   0.045    -0.036              -0.361   \n",
       "total_bedrooms                0.068    -0.065              -0.317   \n",
       "population                    0.100    -0.109              -0.296   \n",
       "households                    0.055    -0.071              -0.303   \n",
       "median_income                -0.015    -0.080              -0.119   \n",
       "rooms_per_household          -0.028     0.106              -0.153   \n",
       "bedrooms_per_room             0.085    -0.104               0.125   \n",
       "population_per_household      0.002     0.002               0.013   \n",
       "\n",
       "                          total_rooms  total_bedrooms  population  households  \\\n",
       "longitude                       0.045           0.068       0.100       0.055   \n",
       "latitude                       -0.036          -0.065      -0.109      -0.071   \n",
       "housing_median_age             -0.361          -0.317      -0.296      -0.303   \n",
       "total_rooms                     1.000           0.920       0.857       0.918   \n",
       "total_bedrooms                  0.920           1.000       0.866       0.967   \n",
       "population                      0.857           0.866       1.000       0.907   \n",
       "households                      0.918           0.967       0.907       1.000   \n",
       "median_income                   0.198          -0.007       0.005       0.013   \n",
       "rooms_per_household             0.134           0.003      -0.072      -0.081   \n",
       "bedrooms_per_room              -0.175           0.122       0.031       0.060   \n",
       "population_per_household       -0.025          -0.028       0.070      -0.027   \n",
       "\n",
       "                          median_income  rooms_per_household  \\\n",
       "longitude                        -0.015               -0.028   \n",
       "latitude                         -0.080                0.106   \n",
       "housing_median_age               -0.119               -0.153   \n",
       "total_rooms                       0.198                0.134   \n",
       "total_bedrooms                   -0.007                0.003   \n",
       "population                        0.005               -0.072   \n",
       "households                        0.013               -0.081   \n",
       "median_income                     1.000                0.327   \n",
       "rooms_per_household               0.327                1.000   \n",
       "bedrooms_per_room                -0.574               -0.387   \n",
       "population_per_household          0.019               -0.005   \n",
       "\n",
       "                          bedrooms_per_room  population_per_household  \n",
       "longitude                             0.085                     0.002  \n",
       "latitude                             -0.104                     0.002  \n",
       "housing_median_age                    0.125                     0.013  \n",
       "total_rooms                          -0.175                    -0.025  \n",
       "total_bedrooms                        0.122                    -0.028  \n",
       "population                            0.031                     0.070  \n",
       "households                            0.060                    -0.027  \n",
       "median_income                        -0.574                     0.019  \n",
       "rooms_per_household                  -0.387                    -0.005  \n",
       "bedrooms_per_room                     1.000                     0.003  \n",
       "population_per_household              0.003                     1.000  "
      ]
     },
     "execution_count": 9,
     "metadata": {},
     "output_type": "execute_result"
    }
   ],
   "source": [
    "df[numerical].corr().round(3)"
   ]
  },
  {
   "cell_type": "code",
   "execution_count": 10,
   "id": "2ed0b602",
   "metadata": {
    "colab": {
     "base_uri": "https://localhost:8080/",
     "height": 391
    },
    "id": "2ed0b602",
    "outputId": "94d571ee-956a-4d9f-fb0c-661cb2046fb6"
   },
   "outputs": [
    {
     "data": {
      "image/png": "[encoded data removed]",
      "text/plain": [
       "<Figure size 432x288 with 2 Axes>"
      ]
     },
     "metadata": {
      "needs_background": "light"
     },
     "output_type": "display_data"
    }
   ],
   "source": [
    "corr = df[numerical].corr()\n",
    "sns.heatmap(corr, annot=True)\n",
    "plt.show()"
   ]
  },
  {
   "cell_type": "markdown",
   "id": "6bd7f914",
   "metadata": {
    "id": "6bd7f914"
   },
   "source": [
    "Ans: households and total_bedroom"
   ]
  },
  {
   "cell_type": "markdown",
   "id": "19e3ab72",
   "metadata": {
    "id": "19e3ab72"
   },
   "source": [
    "# Make median_house_value binary\n",
    "We need to turn the median_house_value variable from numeric into binary.\n",
    "\n",
    "\n",
    "Let's create a variable above_average which is 1 if the median_house_value is above its mean value and 0 otherwise."
   ]
  },
  {
   "cell_type": "code",
   "execution_count": 11,
   "id": "fe93956e",
   "metadata": {
    "colab": {
     "base_uri": "https://localhost:8080/",
     "height": 488
    },
    "id": "fe93956e",
    "outputId": "325f1a04-df2c-43c5-f40b-ea4431efae78"
   },
   "outputs": [
    {
     "data": {
      "text/html": [
       "<div>\n",
       "<style scoped>\n",
       "    .dataframe tbody tr th:only-of-type {\n",
       "        vertical-align: middle;\n",
       "    }\n",
       "\n",
       "    .dataframe tbody tr th {\n",
       "        vertical-align: top;\n",
       "    }\n",
       "\n",
       "    .dataframe thead th {\n",
       "        text-align: right;\n",
       "    }\n",
       "</style>\n",
       "<table border=\"1\" class=\"dataframe\">\n",
       "  <thead>\n",
       "    <tr style=\"text-align: right;\">\n",
       "      <th></th>\n",
       "      <th>longitude</th>\n",
       "      <th>latitude</th>\n",
       "      <th>housing_median_age</th>\n",
       "      <th>total_rooms</th>\n",
       "      <th>total_bedrooms</th>\n",
       "      <th>population</th>\n",
       "      <th>households</th>\n",
       "      <th>median_income</th>\n",
       "      <th>median_house_value</th>\n",
       "      <th>ocean_proximity</th>\n",
       "      <th>rooms_per_household</th>\n",
       "      <th>bedrooms_per_room</th>\n",
       "      <th>population_per_household</th>\n",
       "      <th>above_average</th>\n",
       "    </tr>\n",
       "  </thead>\n",
       "  <tbody>\n",
       "    <tr>\n",
       "      <th>0</th>\n",
       "      <td>-122.23</td>\n",
       "      <td>37.88</td>\n",
       "      <td>41.0</td>\n",
       "      <td>880.0</td>\n",
       "      <td>129.0</td>\n",
       "      <td>322.0</td>\n",
       "      <td>126.0</td>\n",
       "      <td>8.3252</td>\n",
       "      <td>452600.0</td>\n",
       "      <td>NEAR BAY</td>\n",
       "      <td>6.984127</td>\n",
       "      <td>0.146591</td>\n",
       "      <td>2.555556</td>\n",
       "      <td>1</td>\n",
       "    </tr>\n",
       "    <tr>\n",
       "      <th>1</th>\n",
       "      <td>-122.22</td>\n",
       "      <td>37.86</td>\n",
       "      <td>21.0</td>\n",
       "      <td>7099.0</td>\n",
       "      <td>1106.0</td>\n",
       "      <td>2401.0</td>\n",
       "      <td>1138.0</td>\n",
       "      <td>8.3014</td>\n",
       "      <td>358500.0</td>\n",
       "      <td>NEAR BAY</td>\n",
       "      <td>6.238137</td>\n",
       "      <td>0.155797</td>\n",
       "      <td>2.109842</td>\n",
       "      <td>1</td>\n",
       "    </tr>\n",
       "    <tr>\n",
       "      <th>2</th>\n",
       "      <td>-122.24</td>\n",
       "      <td>37.85</td>\n",
       "      <td>52.0</td>\n",
       "      <td>1467.0</td>\n",
       "      <td>190.0</td>\n",
       "      <td>496.0</td>\n",
       "      <td>177.0</td>\n",
       "      <td>7.2574</td>\n",
       "      <td>352100.0</td>\n",
       "      <td>NEAR BAY</td>\n",
       "      <td>8.288136</td>\n",
       "      <td>0.129516</td>\n",
       "      <td>2.802260</td>\n",
       "      <td>1</td>\n",
       "    </tr>\n",
       "    <tr>\n",
       "      <th>3</th>\n",
       "      <td>-122.25</td>\n",
       "      <td>37.85</td>\n",
       "      <td>52.0</td>\n",
       "      <td>1274.0</td>\n",
       "      <td>235.0</td>\n",
       "      <td>558.0</td>\n",
       "      <td>219.0</td>\n",
       "      <td>5.6431</td>\n",
       "      <td>341300.0</td>\n",
       "      <td>NEAR BAY</td>\n",
       "      <td>5.817352</td>\n",
       "      <td>0.184458</td>\n",
       "      <td>2.547945</td>\n",
       "      <td>1</td>\n",
       "    </tr>\n",
       "    <tr>\n",
       "      <th>4</th>\n",
       "      <td>-122.25</td>\n",
       "      <td>37.85</td>\n",
       "      <td>52.0</td>\n",
       "      <td>1627.0</td>\n",
       "      <td>280.0</td>\n",
       "      <td>565.0</td>\n",
       "      <td>259.0</td>\n",
       "      <td>3.8462</td>\n",
       "      <td>342200.0</td>\n",
       "      <td>NEAR BAY</td>\n",
       "      <td>6.281853</td>\n",
       "      <td>0.172096</td>\n",
       "      <td>2.181467</td>\n",
       "      <td>1</td>\n",
       "    </tr>\n",
       "    <tr>\n",
       "      <th>...</th>\n",
       "      <td>...</td>\n",
       "      <td>...</td>\n",
       "      <td>...</td>\n",
       "      <td>...</td>\n",
       "      <td>...</td>\n",
       "      <td>...</td>\n",
       "      <td>...</td>\n",
       "      <td>...</td>\n",
       "      <td>...</td>\n",
       "      <td>...</td>\n",
       "      <td>...</td>\n",
       "      <td>...</td>\n",
       "      <td>...</td>\n",
       "      <td>...</td>\n",
       "    </tr>\n",
       "    <tr>\n",
       "      <th>20635</th>\n",
       "      <td>-121.09</td>\n",
       "      <td>39.48</td>\n",
       "      <td>25.0</td>\n",
       "      <td>1665.0</td>\n",
       "      <td>374.0</td>\n",
       "      <td>845.0</td>\n",
       "      <td>330.0</td>\n",
       "      <td>1.5603</td>\n",
       "      <td>78100.0</td>\n",
       "      <td>INLAND</td>\n",
       "      <td>5.045455</td>\n",
       "      <td>0.224625</td>\n",
       "      <td>2.560606</td>\n",
       "      <td>0</td>\n",
       "    </tr>\n",
       "    <tr>\n",
       "      <th>20636</th>\n",
       "      <td>-121.21</td>\n",
       "      <td>39.49</td>\n",
       "      <td>18.0</td>\n",
       "      <td>697.0</td>\n",
       "      <td>150.0</td>\n",
       "      <td>356.0</td>\n",
       "      <td>114.0</td>\n",
       "      <td>2.5568</td>\n",
       "      <td>77100.0</td>\n",
       "      <td>INLAND</td>\n",
       "      <td>6.114035</td>\n",
       "      <td>0.215208</td>\n",
       "      <td>3.122807</td>\n",
       "      <td>0</td>\n",
       "    </tr>\n",
       "    <tr>\n",
       "      <th>20637</th>\n",
       "      <td>-121.22</td>\n",
       "      <td>39.43</td>\n",
       "      <td>17.0</td>\n",
       "      <td>2254.0</td>\n",
       "      <td>485.0</td>\n",
       "      <td>1007.0</td>\n",
       "      <td>433.0</td>\n",
       "      <td>1.7000</td>\n",
       "      <td>92300.0</td>\n",
       "      <td>INLAND</td>\n",
       "      <td>5.205543</td>\n",
       "      <td>0.215173</td>\n",
       "      <td>2.325635</td>\n",
       "      <td>0</td>\n",
       "    </tr>\n",
       "    <tr>\n",
       "      <th>20638</th>\n",
       "      <td>-121.32</td>\n",
       "      <td>39.43</td>\n",
       "      <td>18.0</td>\n",
       "      <td>1860.0</td>\n",
       "      <td>409.0</td>\n",
       "      <td>741.0</td>\n",
       "      <td>349.0</td>\n",
       "      <td>1.8672</td>\n",
       "      <td>84700.0</td>\n",
       "      <td>INLAND</td>\n",
       "      <td>5.329513</td>\n",
       "      <td>0.219892</td>\n",
       "      <td>2.123209</td>\n",
       "      <td>0</td>\n",
       "    </tr>\n",
       "    <tr>\n",
       "      <th>20639</th>\n",
       "      <td>-121.24</td>\n",
       "      <td>39.37</td>\n",
       "      <td>16.0</td>\n",
       "      <td>2785.0</td>\n",
       "      <td>616.0</td>\n",
       "      <td>1387.0</td>\n",
       "      <td>530.0</td>\n",
       "      <td>2.3886</td>\n",
       "      <td>89400.0</td>\n",
       "      <td>INLAND</td>\n",
       "      <td>5.254717</td>\n",
       "      <td>0.221185</td>\n",
       "      <td>2.616981</td>\n",
       "      <td>0</td>\n",
       "    </tr>\n",
       "  </tbody>\n",
       "</table>\n",
       "<p>20640 rows × 14 columns</p>\n",
       "</div>"
      ],
      "text/plain": [
       "       longitude  latitude  housing_median_age  total_rooms  total_bedrooms  \\\n",
       "0        -122.23     37.88                41.0        880.0           129.0   \n",
       "1        -122.22     37.86                21.0       7099.0          1106.0   \n",
       "2        -122.24     37.85                52.0       1467.0           190.0   \n",
       "3        -122.25     37.85                52.0       1274.0           235.0   \n",
       "4        -122.25     37.85                52.0       1627.0           280.0   \n",
       "...          ...       ...                 ...          ...             ...   \n",
       "20635    -121.09     39.48                25.0       1665.0           374.0   \n",
       "20636    -121.21     39.49                18.0        697.0           150.0   \n",
       "20637    -121.22     39.43                17.0       2254.0           485.0   \n",
       "20638    -121.32     39.43                18.0       1860.0           409.0   \n",
       "20639    -121.24     39.37                16.0       2785.0           616.0   \n",
       "\n",
       "       population  households  median_income  median_house_value  \\\n",
       "0           322.0       126.0         8.3252            452600.0   \n",
       "1          2401.0      1138.0         8.3014            358500.0   \n",
       "2           496.0       177.0         7.2574            352100.0   \n",
       "3           558.0       219.0         5.6431            341300.0   \n",
       "4           565.0       259.0         3.8462            342200.0   \n",
       "...           ...         ...            ...                 ...   \n",
       "20635       845.0       330.0         1.5603             78100.0   \n",
       "20636       356.0       114.0         2.5568             77100.0   \n",
       "20637      1007.0       433.0         1.7000             92300.0   \n",
       "20638       741.0       349.0         1.8672             84700.0   \n",
       "20639      1387.0       530.0         2.3886             89400.0   \n",
       "\n",
       "      ocean_proximity  rooms_per_household  bedrooms_per_room  \\\n",
       "0            NEAR BAY             6.984127           0.146591   \n",
       "1            NEAR BAY             6.238137           0.155797   \n",
       "2            NEAR BAY             8.288136           0.129516   \n",
       "3            NEAR BAY             5.817352           0.184458   \n",
       "4            NEAR BAY             6.281853           0.172096   \n",
       "...               ...                  ...                ...   \n",
       "20635          INLAND             5.045455           0.224625   \n",
       "20636          INLAND             6.114035           0.215208   \n",
       "20637          INLAND             5.205543           0.215173   \n",
       "20638          INLAND             5.329513           0.219892   \n",
       "20639          INLAND             5.254717           0.221185   \n",
       "\n",
       "       population_per_household  above_average  \n",
       "0                      2.555556              1  \n",
       "1                      2.109842              1  \n",
       "2                      2.802260              1  \n",
       "3                      2.547945              1  \n",
       "4                      2.181467              1  \n",
       "...                         ...            ...  \n",
       "20635                  2.560606              0  \n",
       "20636                  3.122807              0  \n",
       "20637                  2.325635              0  \n",
       "20638                  2.123209              0  \n",
       "20639                  2.616981              0  \n",
       "\n",
       "[20640 rows x 14 columns]"
      ]
     },
     "execution_count": 11,
     "metadata": {},
     "output_type": "execute_result"
    }
   ],
   "source": [
    "df['above_average'] = np.where(df['median_house_value'] > df['median_house_value'].mean(), 1,0)\n",
    "df"
   ]
  },
  {
   "cell_type": "code",
   "execution_count": null,
   "id": "7751c4e6",
   "metadata": {
    "id": "7751c4e6"
   },
   "outputs": [],
   "source": []
  },
  {
   "cell_type": "markdown",
   "id": "6d915dfc",
   "metadata": {
    "id": "6d915dfc"
   },
   "source": [
    "# Split the data\n",
    "Split your data in train/val/test sets, with 60%/20%/20% distribution.\n",
    "Use Scikit-Learn for that (the train_test_split function) and set the seed to 42.\n",
    "Make sure that the target value (median_house_value) is not in your dataframe."
   ]
  },
  {
   "cell_type": "code",
   "execution_count": 12,
   "id": "da2ffecb",
   "metadata": {
    "id": "da2ffecb"
   },
   "outputs": [],
   "source": [
    "from sklearn.model_selection import train_test_split"
   ]
  },
  {
   "cell_type": "code",
   "execution_count": 13,
   "id": "7d92b35f",
   "metadata": {
    "id": "7d92b35f"
   },
   "outputs": [],
   "source": [
    "df_full_train, df_test = train_test_split(df, test_size = 0.2, random_state = 42)"
   ]
  },
  {
   "cell_type": "code",
   "execution_count": 14,
   "id": "4abbadf2",
   "metadata": {
    "id": "4abbadf2"
   },
   "outputs": [],
   "source": [
    "df_train, df_val = train_test_split(df_full_train, test_size = 0.25, random_state=42)"
   ]
  },
  {
   "cell_type": "code",
   "execution_count": 15,
   "id": "47dc0cfd",
   "metadata": {
    "id": "47dc0cfd"
   },
   "outputs": [],
   "source": [
    "df_train = df_train.reset_index(drop=True)\n",
    "df_val = df_val.reset_index(drop=True)\n",
    "df_test = df_test.reset_index(drop=True)"
   ]
  },
  {
   "cell_type": "code",
   "execution_count": 16,
   "id": "e0480903",
   "metadata": {
    "id": "e0480903"
   },
   "outputs": [],
   "source": [
    "y_train = df_train.above_average.values\n",
    "y_val = df_val.above_average.values\n",
    "y_test = df_test.above_average.values"
   ]
  },
  {
   "cell_type": "code",
   "execution_count": 17,
   "id": "ea41cd47",
   "metadata": {
    "id": "ea41cd47"
   },
   "outputs": [],
   "source": [
    "del df_train['median_house_value']\n",
    "del df_val['median_house_value']\n",
    "del df_test['median_house_value']"
   ]
  },
  {
   "cell_type": "code",
   "execution_count": null,
   "id": "zZvHNiUT6fR4",
   "metadata": {
    "id": "zZvHNiUT6fR4"
   },
   "outputs": [],
   "source": []
  },
  {
   "cell_type": "markdown",
   "id": "f5a30c51",
   "metadata": {
    "id": "f5a30c51"
   },
   "source": [
    "# Question 3\n",
    "Calculate the mutual information score with the (binarized) price for the categorical variable that we have. Use the training set only.\n",
    "What is the value of mutual information?\n",
    "Round it to 2 decimal digits using round(score, 2)"
   ]
  },
  {
   "cell_type": "code",
   "execution_count": 18,
   "id": "655b9363",
   "metadata": {
    "colab": {
     "base_uri": "https://localhost:8080/",
     "height": 488
    },
    "id": "655b9363",
    "outputId": "bbd7d9d7-b42c-4d4e-fb87-ba93ed76f584"
   },
   "outputs": [
    {
     "data": {
      "text/html": [
       "<div>\n",
       "<style scoped>\n",
       "    .dataframe tbody tr th:only-of-type {\n",
       "        vertical-align: middle;\n",
       "    }\n",
       "\n",
       "    .dataframe tbody tr th {\n",
       "        vertical-align: top;\n",
       "    }\n",
       "\n",
       "    .dataframe thead th {\n",
       "        text-align: right;\n",
       "    }\n",
       "</style>\n",
       "<table border=\"1\" class=\"dataframe\">\n",
       "  <thead>\n",
       "    <tr style=\"text-align: right;\">\n",
       "      <th></th>\n",
       "      <th>longitude</th>\n",
       "      <th>latitude</th>\n",
       "      <th>housing_median_age</th>\n",
       "      <th>total_rooms</th>\n",
       "      <th>total_bedrooms</th>\n",
       "      <th>population</th>\n",
       "      <th>households</th>\n",
       "      <th>median_income</th>\n",
       "      <th>ocean_proximity</th>\n",
       "      <th>rooms_per_household</th>\n",
       "      <th>bedrooms_per_room</th>\n",
       "      <th>population_per_household</th>\n",
       "      <th>above_average</th>\n",
       "    </tr>\n",
       "  </thead>\n",
       "  <tbody>\n",
       "    <tr>\n",
       "      <th>0</th>\n",
       "      <td>-119.67</td>\n",
       "      <td>34.43</td>\n",
       "      <td>39.0</td>\n",
       "      <td>1467.0</td>\n",
       "      <td>381.0</td>\n",
       "      <td>1404.0</td>\n",
       "      <td>374.0</td>\n",
       "      <td>2.3681</td>\n",
       "      <td>&lt;1H OCEAN</td>\n",
       "      <td>3.922460</td>\n",
       "      <td>0.259714</td>\n",
       "      <td>3.754011</td>\n",
       "      <td>1</td>\n",
       "    </tr>\n",
       "    <tr>\n",
       "      <th>1</th>\n",
       "      <td>-118.32</td>\n",
       "      <td>33.74</td>\n",
       "      <td>24.0</td>\n",
       "      <td>6097.0</td>\n",
       "      <td>794.0</td>\n",
       "      <td>2248.0</td>\n",
       "      <td>806.0</td>\n",
       "      <td>10.1357</td>\n",
       "      <td>NEAR OCEAN</td>\n",
       "      <td>7.564516</td>\n",
       "      <td>0.130228</td>\n",
       "      <td>2.789082</td>\n",
       "      <td>1</td>\n",
       "    </tr>\n",
       "    <tr>\n",
       "      <th>2</th>\n",
       "      <td>-121.62</td>\n",
       "      <td>39.13</td>\n",
       "      <td>41.0</td>\n",
       "      <td>1317.0</td>\n",
       "      <td>309.0</td>\n",
       "      <td>856.0</td>\n",
       "      <td>337.0</td>\n",
       "      <td>1.6719</td>\n",
       "      <td>INLAND</td>\n",
       "      <td>3.908012</td>\n",
       "      <td>0.234624</td>\n",
       "      <td>2.540059</td>\n",
       "      <td>0</td>\n",
       "    </tr>\n",
       "    <tr>\n",
       "      <th>3</th>\n",
       "      <td>-118.63</td>\n",
       "      <td>34.24</td>\n",
       "      <td>9.0</td>\n",
       "      <td>4759.0</td>\n",
       "      <td>924.0</td>\n",
       "      <td>1884.0</td>\n",
       "      <td>915.0</td>\n",
       "      <td>4.8333</td>\n",
       "      <td>&lt;1H OCEAN</td>\n",
       "      <td>5.201093</td>\n",
       "      <td>0.194158</td>\n",
       "      <td>2.059016</td>\n",
       "      <td>1</td>\n",
       "    </tr>\n",
       "    <tr>\n",
       "      <th>4</th>\n",
       "      <td>-122.30</td>\n",
       "      <td>37.52</td>\n",
       "      <td>38.0</td>\n",
       "      <td>2769.0</td>\n",
       "      <td>387.0</td>\n",
       "      <td>994.0</td>\n",
       "      <td>395.0</td>\n",
       "      <td>5.5902</td>\n",
       "      <td>NEAR OCEAN</td>\n",
       "      <td>7.010127</td>\n",
       "      <td>0.139762</td>\n",
       "      <td>2.516456</td>\n",
       "      <td>1</td>\n",
       "    </tr>\n",
       "    <tr>\n",
       "      <th>...</th>\n",
       "      <td>...</td>\n",
       "      <td>...</td>\n",
       "      <td>...</td>\n",
       "      <td>...</td>\n",
       "      <td>...</td>\n",
       "      <td>...</td>\n",
       "      <td>...</td>\n",
       "      <td>...</td>\n",
       "      <td>...</td>\n",
       "      <td>...</td>\n",
       "      <td>...</td>\n",
       "      <td>...</td>\n",
       "      <td>...</td>\n",
       "    </tr>\n",
       "    <tr>\n",
       "      <th>12379</th>\n",
       "      <td>-118.29</td>\n",
       "      <td>33.79</td>\n",
       "      <td>16.0</td>\n",
       "      <td>1867.0</td>\n",
       "      <td>571.0</td>\n",
       "      <td>951.0</td>\n",
       "      <td>498.0</td>\n",
       "      <td>3.3427</td>\n",
       "      <td>&lt;1H OCEAN</td>\n",
       "      <td>3.748996</td>\n",
       "      <td>0.305838</td>\n",
       "      <td>1.909639</td>\n",
       "      <td>0</td>\n",
       "    </tr>\n",
       "    <tr>\n",
       "      <th>12380</th>\n",
       "      <td>-121.34</td>\n",
       "      <td>38.04</td>\n",
       "      <td>16.0</td>\n",
       "      <td>3295.0</td>\n",
       "      <td>565.0</td>\n",
       "      <td>2279.0</td>\n",
       "      <td>576.0</td>\n",
       "      <td>3.6083</td>\n",
       "      <td>INLAND</td>\n",
       "      <td>5.720486</td>\n",
       "      <td>0.171472</td>\n",
       "      <td>3.956597</td>\n",
       "      <td>0</td>\n",
       "    </tr>\n",
       "    <tr>\n",
       "      <th>12381</th>\n",
       "      <td>-116.99</td>\n",
       "      <td>32.74</td>\n",
       "      <td>18.0</td>\n",
       "      <td>3341.0</td>\n",
       "      <td>611.0</td>\n",
       "      <td>1952.0</td>\n",
       "      <td>602.0</td>\n",
       "      <td>3.9844</td>\n",
       "      <td>&lt;1H OCEAN</td>\n",
       "      <td>5.549834</td>\n",
       "      <td>0.182879</td>\n",
       "      <td>3.242525</td>\n",
       "      <td>1</td>\n",
       "    </tr>\n",
       "    <tr>\n",
       "      <th>12382</th>\n",
       "      <td>-117.87</td>\n",
       "      <td>33.84</td>\n",
       "      <td>16.0</td>\n",
       "      <td>1545.0</td>\n",
       "      <td>354.0</td>\n",
       "      <td>730.0</td>\n",
       "      <td>350.0</td>\n",
       "      <td>4.5112</td>\n",
       "      <td>&lt;1H OCEAN</td>\n",
       "      <td>4.414286</td>\n",
       "      <td>0.229126</td>\n",
       "      <td>2.085714</td>\n",
       "      <td>0</td>\n",
       "    </tr>\n",
       "    <tr>\n",
       "      <th>12383</th>\n",
       "      <td>-118.32</td>\n",
       "      <td>33.91</td>\n",
       "      <td>35.0</td>\n",
       "      <td>940.0</td>\n",
       "      <td>197.0</td>\n",
       "      <td>640.0</td>\n",
       "      <td>215.0</td>\n",
       "      <td>4.2000</td>\n",
       "      <td>&lt;1H OCEAN</td>\n",
       "      <td>4.372093</td>\n",
       "      <td>0.209574</td>\n",
       "      <td>2.976744</td>\n",
       "      <td>0</td>\n",
       "    </tr>\n",
       "  </tbody>\n",
       "</table>\n",
       "<p>12384 rows × 13 columns</p>\n",
       "</div>"
      ],
      "text/plain": [
       "       longitude  latitude  housing_median_age  total_rooms  total_bedrooms  \\\n",
       "0        -119.67     34.43                39.0       1467.0           381.0   \n",
       "1        -118.32     33.74                24.0       6097.0           794.0   \n",
       "2        -121.62     39.13                41.0       1317.0           309.0   \n",
       "3        -118.63     34.24                 9.0       4759.0           924.0   \n",
       "4        -122.30     37.52                38.0       2769.0           387.0   \n",
       "...          ...       ...                 ...          ...             ...   \n",
       "12379    -118.29     33.79                16.0       1867.0           571.0   \n",
       "12380    -121.34     38.04                16.0       3295.0           565.0   \n",
       "12381    -116.99     32.74                18.0       3341.0           611.0   \n",
       "12382    -117.87     33.84                16.0       1545.0           354.0   \n",
       "12383    -118.32     33.91                35.0        940.0           197.0   \n",
       "\n",
       "       population  households  median_income ocean_proximity  \\\n",
       "0          1404.0       374.0         2.3681       <1H OCEAN   \n",
       "1          2248.0       806.0        10.1357      NEAR OCEAN   \n",
       "2           856.0       337.0         1.6719          INLAND   \n",
       "3          1884.0       915.0         4.8333       <1H OCEAN   \n",
       "4           994.0       395.0         5.5902      NEAR OCEAN   \n",
       "...           ...         ...            ...             ...   \n",
       "12379       951.0       498.0         3.3427       <1H OCEAN   \n",
       "12380      2279.0       576.0         3.6083          INLAND   \n",
       "12381      1952.0       602.0         3.9844       <1H OCEAN   \n",
       "12382       730.0       350.0         4.5112       <1H OCEAN   \n",
       "12383       640.0       215.0         4.2000       <1H OCEAN   \n",
       "\n",
       "       rooms_per_household  bedrooms_per_room  population_per_household  \\\n",
       "0                 3.922460           0.259714                  3.754011   \n",
       "1                 7.564516           0.130228                  2.789082   \n",
       "2                 3.908012           0.234624                  2.540059   \n",
       "3                 5.201093           0.194158                  2.059016   \n",
       "4                 7.010127           0.139762                  2.516456   \n",
       "...                    ...                ...                       ...   \n",
       "12379             3.748996           0.305838                  1.909639   \n",
       "12380             5.720486           0.171472                  3.956597   \n",
       "12381             5.549834           0.182879                  3.242525   \n",
       "12382             4.414286           0.229126                  2.085714   \n",
       "12383             4.372093           0.209574                  2.976744   \n",
       "\n",
       "       above_average  \n",
       "0                  1  \n",
       "1                  1  \n",
       "2                  0  \n",
       "3                  1  \n",
       "4                  1  \n",
       "...              ...  \n",
       "12379              0  \n",
       "12380              0  \n",
       "12381              1  \n",
       "12382              0  \n",
       "12383              0  \n",
       "\n",
       "[12384 rows x 13 columns]"
      ]
     },
     "execution_count": 18,
     "metadata": {},
     "output_type": "execute_result"
    }
   ],
   "source": [
    "df_train"
   ]
  },
  {
   "cell_type": "code",
   "execution_count": 19,
   "id": "9fae6451",
   "metadata": {
    "id": "9fae6451"
   },
   "outputs": [],
   "source": [
    "from sklearn.metrics import mutual_info_score"
   ]
  },
  {
   "cell_type": "code",
   "execution_count": 20,
   "id": "e74ccd2b",
   "metadata": {
    "colab": {
     "base_uri": "https://localhost:8080/"
    },
    "id": "e74ccd2b",
    "outputId": "06c445e1-dff2-4fed-bf37-548e6ad7a190"
   },
   "outputs": [
    {
     "data": {
      "text/plain": [
       "0.1"
      ]
     },
     "execution_count": 20,
     "metadata": {},
     "output_type": "execute_result"
    }
   ],
   "source": [
    "round(mutual_info_score(df_train.above_average, df_train.ocean_proximity),2)"
   ]
  },
  {
   "cell_type": "markdown",
   "id": "e445a0bb",
   "metadata": {
    "id": "e445a0bb"
   },
   "source": [
    "# Question 4\n",
    "Now let's train a logistic regression\n",
    "Remember that we have one categorical variable ocean_proximity in the data. Include it using one-hot encoding.\n",
    "Fit the model on the training dataset.\n",
    "To make sure the results are reproducible across different versions of Scikit-Learn, fit the model with these parameters:\n",
    "model = LogisticRegression(solver=\"liblinear\", C=1.0, max_iter=1000, random_state=42)\n",
    "Calculate the accuracy on the validation dataset and round it to 2 decimal digits."
   ]
  },
  {
   "cell_type": "code",
   "execution_count": 21,
   "id": "8WtzM-Oe7Jop",
   "metadata": {
    "id": "8WtzM-Oe7Jop"
   },
   "outputs": [],
   "source": [
    "del df_train['above_average']\n",
    "del df_val['above_average']\n",
    "del df_test['above_average']"
   ]
  },
  {
   "cell_type": "code",
   "execution_count": 22,
   "id": "e5b13997",
   "metadata": {
    "id": "e5b13997"
   },
   "outputs": [],
   "source": [
    "from sklearn.linear_model import LogisticRegression\n",
    "from sklearn.feature_extraction import DictVectorizer"
   ]
  },
  {
   "cell_type": "code",
   "execution_count": 23,
   "id": "19fbdd7d",
   "metadata": {
    "id": "19fbdd7d"
   },
   "outputs": [],
   "source": [
    "#first we convert the dataframe into a dictionary object\n",
    "train_dict = df_train.to_dict(orient='records')\n",
    "#then we fit our dictVectorizer by showing it the dictionary\n",
    "dv = DictVectorizer(sparse=False)\n",
    "X_train = dv.fit_transform(train_dict)"
   ]
  },
  {
   "cell_type": "code",
   "execution_count": 25,
   "id": "5f5f3e95",
   "metadata": {
    "id": "5f5f3e95"
   },
   "outputs": [],
   "source": [
    "val_dict = df_val.to_dict(orient='records')\n",
    "X_val = dv.transform(val_dict)"
   ]
  },
  {
   "cell_type": "code",
   "execution_count": 27,
   "id": "ab88a6c2",
   "metadata": {
    "id": "ab88a6c2"
   },
   "outputs": [],
   "source": [
    "model = LogisticRegression(solver=\"liblinear\", C=1.0, max_iter=1000, random_state=42) "
   ]
  },
  {
   "cell_type": "code",
   "execution_count": 28,
   "id": "9f028769",
   "metadata": {
    "colab": {
     "base_uri": "https://localhost:8080/"
    },
    "id": "9f028769",
    "outputId": "46c0537b-9eae-4e80-c34b-e30df1bebf7e"
   },
   "outputs": [
    {
     "data": {
      "text/plain": [
       "LogisticRegression(max_iter=1000, random_state=42, solver='liblinear')"
      ]
     },
     "execution_count": 28,
     "metadata": {},
     "output_type": "execute_result"
    }
   ],
   "source": [
    "model.fit(X_train,y_train)"
   ]
  },
  {
   "cell_type": "code",
   "execution_count": 29,
   "id": "837798cb",
   "metadata": {
    "colab": {
     "base_uri": "https://localhost:8080/"
    },
    "id": "837798cb",
    "outputId": "424adbb5-30aa-45e9-d36a-16c46231eb00"
   },
   "outputs": [],
   "source": [
    "y_pred = model.predict_proba(X_val)[:,1]"
   ]
  },
  {
   "cell_type": "code",
   "execution_count": 30,
   "id": "rI8pTs265agm",
   "metadata": {
    "id": "rI8pTs265agm"
   },
   "outputs": [],
   "source": [
    "y_pred = y_pred >= 0.5"
   ]
  },
  {
   "cell_type": "code",
   "execution_count": 31,
   "id": "a70963a7",
   "metadata": {},
   "outputs": [
    {
     "data": {
      "text/plain": [
       "0.84"
      ]
     },
     "execution_count": 31,
     "metadata": {},
     "output_type": "execute_result"
    }
   ],
   "source": [
    "#to check for accuracy\n",
    "round((y_val == y_pred).mean(),2)"
   ]
  },
  {
   "cell_type": "markdown",
   "id": "e4dfecd2",
   "metadata": {},
   "source": [
    "the accuracy is 0.84"
   ]
  },
  {
   "cell_type": "markdown",
   "id": "3c77a79d",
   "metadata": {},
   "source": [
    "# Question 5\n",
    "Let's find the least useful feature using the feature elimination technique.\n",
    "Train a model with all these features (using the same parameters as in Q4).\n",
    "Now exclude each feature from this set and train a model without it. Record the accuracy for each model.\n",
    "For each feature, calculate the difference between the original accuracy and the accuracy without the feature.\n",
    "Which of following feature has the smallest difference?\n",
    "total_rooms\n",
    "total_bedrooms\n",
    "population\n",
    "households\n",
    "note: the difference doesn't have to be positive"
   ]
  },
  {
   "cell_type": "code",
   "execution_count": 32,
   "id": "db57565a",
   "metadata": {},
   "outputs": [],
   "source": [
    "feat = ['total_rooms', 'total_bedrooms', 'population', 'households']"
   ]
  },
  {
   "cell_type": "code",
   "execution_count": 33,
   "id": "b8be473d",
   "metadata": {},
   "outputs": [],
   "source": [
    "df_small = df_train[feat].to_dict(orient='records')\n",
    "X_train_small = dv.fit_transform(df_small)"
   ]
  },
  {
   "cell_type": "code",
   "execution_count": 34,
   "id": "f4ab0bfc",
   "metadata": {},
   "outputs": [],
   "source": [
    "df_val_small = df_val[feat].to_dict(orient='records')\n",
    "X_val_small = dv.transform(df_val_small)"
   ]
  },
  {
   "cell_type": "code",
   "execution_count": 35,
   "id": "02abdd0d",
   "metadata": {},
   "outputs": [
    {
     "data": {
      "text/plain": [
       "LogisticRegression(max_iter=1000, random_state=42, solver='liblinear')"
      ]
     },
     "execution_count": 35,
     "metadata": {},
     "output_type": "execute_result"
    }
   ],
   "source": [
    "model.fit(X_train_small,y_train)"
   ]
  },
  {
   "cell_type": "code",
   "execution_count": 36,
   "id": "30cd4a6c",
   "metadata": {},
   "outputs": [
    {
     "data": {
      "text/plain": [
       "0.71"
      ]
     },
     "execution_count": 36,
     "metadata": {},
     "output_type": "execute_result"
    }
   ],
   "source": [
    "y_pred = model.predict_proba(X_val_small)[:,1]\n",
    "y_pred = y_pred >= 0.5\n",
    "#to check for accuracy\n",
    "round((y_val == y_pred).mean(),2)"
   ]
  },
  {
   "cell_type": "code",
   "execution_count": 37,
   "id": "f145abc1",
   "metadata": {},
   "outputs": [],
   "source": [
    "feat2 = ['total_bedrooms', 'population', 'households']"
   ]
  },
  {
   "cell_type": "code",
   "execution_count": 38,
   "id": "57c47487",
   "metadata": {},
   "outputs": [],
   "source": [
    "df_small = df_train[feat2].to_dict(orient='records')\n",
    "X_train_small = dv.fit_transform(df_small)"
   ]
  },
  {
   "cell_type": "code",
   "execution_count": 39,
   "id": "4776f41e",
   "metadata": {},
   "outputs": [],
   "source": [
    "df_val_small = df_val[feat2].to_dict(orient='records')\n",
    "X_val_small = dv.transform(df_val_small)"
   ]
  },
  {
   "cell_type": "code",
   "execution_count": 40,
   "id": "2910d33f",
   "metadata": {},
   "outputs": [
    {
     "data": {
      "text/plain": [
       "LogisticRegression(max_iter=1000, random_state=42, solver='liblinear')"
      ]
     },
     "execution_count": 40,
     "metadata": {},
     "output_type": "execute_result"
    }
   ],
   "source": [
    "model.fit(X_train_small,y_train)"
   ]
  },
  {
   "cell_type": "code",
   "execution_count": 41,
   "id": "88055652",
   "metadata": {},
   "outputs": [
    {
     "data": {
      "text/plain": [
       "0.63"
      ]
     },
     "execution_count": 41,
     "metadata": {},
     "output_type": "execute_result"
    }
   ],
   "source": [
    "y_pred = model.predict_proba(X_val_small)[:,1]\n",
    "y_pred = y_pred >= 0.5\n",
    "#to check for accuracy\n",
    "round((y_val == y_pred).mean(),2)"
   ]
  },
  {
   "cell_type": "code",
   "execution_count": 42,
   "id": "736c62fb",
   "metadata": {},
   "outputs": [],
   "source": [
    "feat3 = ['total_rooms','population', 'households']"
   ]
  },
  {
   "cell_type": "code",
   "execution_count": 43,
   "id": "2d50974c",
   "metadata": {},
   "outputs": [],
   "source": [
    "df_small = df_train[feat3].to_dict(orient='records')\n",
    "X_train_small = dv.fit_transform(df_small)"
   ]
  },
  {
   "cell_type": "code",
   "execution_count": 44,
   "id": "ba5d55ba",
   "metadata": {},
   "outputs": [],
   "source": [
    "df_val_small = df_val[feat3].to_dict(orient='records')\n",
    "X_val_small = dv.transform(df_val_small)"
   ]
  },
  {
   "cell_type": "code",
   "execution_count": 45,
   "id": "b939e9ae",
   "metadata": {},
   "outputs": [
    {
     "data": {
      "text/plain": [
       "LogisticRegression(max_iter=1000, random_state=42, solver='liblinear')"
      ]
     },
     "execution_count": 45,
     "metadata": {},
     "output_type": "execute_result"
    }
   ],
   "source": [
    "model.fit(X_train_small,y_train)"
   ]
  },
  {
   "cell_type": "code",
   "execution_count": 46,
   "id": "4caa29d5",
   "metadata": {},
   "outputs": [
    {
     "data": {
      "text/plain": [
       "0.66"
      ]
     },
     "execution_count": 46,
     "metadata": {},
     "output_type": "execute_result"
    }
   ],
   "source": [
    "y_pred = model.predict_proba(X_val_small)[:,1]\n",
    "y_pred = y_pred >= 0.5\n",
    "#to check for accuracy\n",
    "round((y_val == y_pred).mean(),2)"
   ]
  },
  {
   "cell_type": "code",
   "execution_count": 47,
   "id": "9bdd4a2e",
   "metadata": {},
   "outputs": [],
   "source": [
    "feat4 = ['total_rooms','total_bedrooms', 'households']"
   ]
  },
  {
   "cell_type": "code",
   "execution_count": 48,
   "id": "3c73ecbc",
   "metadata": {},
   "outputs": [],
   "source": [
    "df_small = df_train[feat4].to_dict(orient='records')\n",
    "X_train_small = dv.fit_transform(df_small)"
   ]
  },
  {
   "cell_type": "code",
   "execution_count": 49,
   "id": "16147794",
   "metadata": {},
   "outputs": [],
   "source": [
    "df_val_small = df_val[feat4].to_dict(orient='records')\n",
    "X_val_small = dv.transform(df_val_small)"
   ]
  },
  {
   "cell_type": "code",
   "execution_count": 50,
   "id": "787a1f17",
   "metadata": {},
   "outputs": [
    {
     "data": {
      "text/plain": [
       "LogisticRegression(max_iter=1000, random_state=42, solver='liblinear')"
      ]
     },
     "execution_count": 50,
     "metadata": {},
     "output_type": "execute_result"
    }
   ],
   "source": [
    "model.fit(X_train_small,y_train)"
   ]
  },
  {
   "cell_type": "code",
   "execution_count": 51,
   "id": "9c5e9f1a",
   "metadata": {},
   "outputs": [
    {
     "data": {
      "text/plain": [
       "0.66"
      ]
     },
     "execution_count": 51,
     "metadata": {},
     "output_type": "execute_result"
    }
   ],
   "source": [
    "y_pred = model.predict_proba(X_val_small)[:,1]\n",
    "y_pred = y_pred >= 0.5\n",
    "#to check for accuracy\n",
    "round((y_val == y_pred).mean(),2)"
   ]
  },
  {
   "cell_type": "code",
   "execution_count": 52,
   "id": "f6c4004b",
   "metadata": {},
   "outputs": [],
   "source": [
    "feat5 = ['total_rooms','total_bedrooms', 'population']"
   ]
  },
  {
   "cell_type": "code",
   "execution_count": 53,
   "id": "b4635032",
   "metadata": {},
   "outputs": [],
   "source": [
    "df_small = df_train[feat5].to_dict(orient='records')\n",
    "X_train_small = dv.fit_transform(df_small)"
   ]
  },
  {
   "cell_type": "code",
   "execution_count": 54,
   "id": "4cfe9e53",
   "metadata": {},
   "outputs": [],
   "source": [
    "df_val_small = df_val[feat5].to_dict(orient='records')\n",
    "X_val_small = dv.transform(df_val_small)"
   ]
  },
  {
   "cell_type": "code",
   "execution_count": 55,
   "id": "4d943eca",
   "metadata": {},
   "outputs": [
    {
     "data": {
      "text/plain": [
       "LogisticRegression(max_iter=1000, random_state=42, solver='liblinear')"
      ]
     },
     "execution_count": 55,
     "metadata": {},
     "output_type": "execute_result"
    }
   ],
   "source": [
    "model.fit(X_train_small,y_train)"
   ]
  },
  {
   "cell_type": "code",
   "execution_count": 56,
   "id": "7ab9f48c",
   "metadata": {},
   "outputs": [
    {
     "data": {
      "text/plain": [
       "0.67"
      ]
     },
     "execution_count": 56,
     "metadata": {},
     "output_type": "execute_result"
    }
   ],
   "source": [
    "y_pred = model.predict_proba(X_val_small)[:,1]\n",
    "y_pred = y_pred >= 0.5\n",
    "#to check for accuracy\n",
    "round((y_val == y_pred).mean(),2)"
   ]
  },
  {
   "cell_type": "markdown",
   "id": "ae00c89c",
   "metadata": {},
   "source": [
    "ans: population"
   ]
  },
  {
   "cell_type": "markdown",
   "id": "b807eee5",
   "metadata": {},
   "source": [
    "# For this question, we'll see how to use a linear regression model from Scikit-Learn\n",
    "We'll need to use the original column 'median_house_value'. Apply the logarithmic transformation to this column.\n",
    "Fit the Ridge regression model (model = Ridge(alpha=a, solver=\"sag\", random_state=42)) on the training data.\n",
    "This model has a parameter alpha. Let's try the following values: [0, 0.01, 0.1, 1, 10]\n",
    "Which of these alphas leads to the best RMSE on the validation set? Round your RMSE scores to 3 decimal digits.\n",
    "If there are multiple options, select the smallest alpha."
   ]
  },
  {
   "cell_type": "code",
   "execution_count": 57,
   "id": "df28712c",
   "metadata": {},
   "outputs": [],
   "source": [
    "df_train, df_val = train_test_split(df_full_train, test_size = 0.25, random_state=42)\n",
    "df_train = df_train.reset_index(drop=True)\n",
    "df_val = df_val.reset_index(drop=True)\n",
    "df_test = df_test.reset_index(drop=True)"
   ]
  },
  {
   "cell_type": "code",
   "execution_count": 59,
   "id": "f257059a",
   "metadata": {},
   "outputs": [],
   "source": [
    "y_train = np.log1p(df_train.median_house_value.values)\n",
    "y_val = np.log1p(df_val.median_house_value.values)\n",
    "#y_test = np.log1p(df_test.median_house_value.values)"
   ]
  },
  {
   "cell_type": "code",
   "execution_count": 65,
   "id": "2d01ccfb",
   "metadata": {},
   "outputs": [],
   "source": [
    "#first we convert the dataframe into a dictionary object\n",
    "train_dict = df_train.to_dict(orient='records')\n",
    "#then we fit our dictVectorizer by showing it the dictionary\n",
    "dv = DictVectorizer(sparse=False)\n",
    "X_train = dv.fit_transform(train_dict)"
   ]
  },
  {
   "cell_type": "code",
   "execution_count": 66,
   "id": "4272e97d",
   "metadata": {},
   "outputs": [
    {
     "data": {
      "text/plain": [
       "array([[1.00000000e+00, 2.59713701e-01, 3.74000000e+02, ...,\n",
       "        3.92245989e+00, 3.81000000e+02, 1.46700000e+03],\n",
       "       [1.00000000e+00, 1.30227981e-01, 8.06000000e+02, ...,\n",
       "        7.56451613e+00, 7.94000000e+02, 6.09700000e+03],\n",
       "       [0.00000000e+00, 2.34624146e-01, 3.37000000e+02, ...,\n",
       "        3.90801187e+00, 3.09000000e+02, 1.31700000e+03],\n",
       "       ...,\n",
       "       [1.00000000e+00, 1.82879377e-01, 6.02000000e+02, ...,\n",
       "        5.54983389e+00, 6.11000000e+02, 3.34100000e+03],\n",
       "       [0.00000000e+00, 2.29126214e-01, 3.50000000e+02, ...,\n",
       "        4.41428571e+00, 3.54000000e+02, 1.54500000e+03],\n",
       "       [0.00000000e+00, 2.09574468e-01, 2.15000000e+02, ...,\n",
       "        4.37209302e+00, 1.97000000e+02, 9.40000000e+02]])"
      ]
     },
     "execution_count": 66,
     "metadata": {},
     "output_type": "execute_result"
    }
   ],
   "source": []
  },
  {
   "cell_type": "code",
   "execution_count": 67,
   "id": "26558640",
   "metadata": {},
   "outputs": [],
   "source": [
    "val_dict = df_val.to_dict(orient='records')\n",
    "X_val = dv.transform(val_dict)"
   ]
  },
  {
   "cell_type": "code",
   "execution_count": 62,
   "id": "b05770b2",
   "metadata": {},
   "outputs": [],
   "source": [
    "from sklearn.linear_model import Ridge"
   ]
  },
  {
   "cell_type": "code",
   "execution_count": 75,
   "id": "f533233c",
   "metadata": {},
   "outputs": [
    {
     "name": "stdout",
     "output_type": "stream",
     "text": [
      "0 0.17684219911897192\n",
      "0.01 0.17684219911897192\n",
      "0.1 0.17684219911903545\n",
      "1 0.17684219911947785\n",
      "10 0.1768421991242831\n"
     ]
    }
   ],
   "source": [
    "rmse_list = []\n",
    "alphas = [0, 0.01, 0.1, 1, 10]\n",
    "\n",
    "for i in alphas:\n",
    "    model = Ridge(alpha=i,solver='sag', random_state=42)\n",
    "    model.fit(X_train,y_train)\n",
    "    y_pred = model.predict(X_val)\n",
    "    #y_pred = y_pred >= 0.5\n",
    "    #to check for accuracy\n",
    "    from sklearn.metrics import mean_squared_error\n",
    "    rmse = mean_squared_error(y_val, y_pred, squared = False)\n",
    "    #accuracy = round((y_val == y_pred).mean(),2)\n",
    "    rmse_list.append(rmse)\n",
    "                    \n",
    "    print(i, rmse)"
   ]
  },
  {
   "cell_type": "markdown",
   "id": "d72b3107",
   "metadata": {},
   "source": [
    "answer = 0.01"
   ]
  }
 ],
 "metadata": {
  "colab": {
   "provenance": []
  },
  "kernelspec": {
   "display_name": "Python 3 (ipykernel)",
   "language": "python",
   "name": "python3"
  },
  "language_info": {
   "codemirror_mode": {
    "name": "ipython",
    "version": 3
   },
   "file_extension": ".py",
   "mimetype": "text/x-python",
   "name": "python",
   "nbconvert_exporter": "python",
   "pygments_lexer": "ipython3",
   "version": "3.9.7"
  }
 },
 "nbformat": 4,
 "nbformat_minor": 5
}
